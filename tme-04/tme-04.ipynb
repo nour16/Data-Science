{
 "cells": [
  {
   "cell_type": "markdown",
   "metadata": {},
   "source": [
    "IA & Data science (LU3IN0226) -- 2021-2022\n",
    "--------\n",
    "*&copy; Equipe pédagogique: Vincent Guigue, Christophe Marsala, Olivier Schwander.*\n"
   ]
  },
  {
   "cell_type": "markdown",
   "metadata": {},
   "source": [
    "# TD-TME 4 : Introspection des modèles et descente de gradient"
   ]
  },
  {
   "cell_type": "markdown",
   "metadata": {},
   "source": [
    "<font size=\"+1\" color=\"RED\">**[Q]**</font> **Indiquer dans la boîte ci-dessous vos noms et prénoms :**"
   ]
  },
  {
   "cell_type": "markdown",
   "metadata": {},
   "source": [
    "BESSAD Melina & KLICH NourElhouda"
   ]
  },
  {
   "cell_type": "markdown",
   "metadata": {},
   "source": [
    "<font color=\"RED\" size=\"+1\">**[Q]**</font> **Renommer ce fichier ipython**\n",
    "\n",
    "Tout en haut de cette page, cliquer sur <tt>tme-04</tt> et rajouter à la suite de <tt>tme-04</tt> les noms des membres du binômes séparés par un tiret.\n",
    "\n",
    "<font color=\"RED\" size=\"+1\">IMPORTANT: soumission de votre fichier final</font>\n",
    "\n",
    "**Nom à donner au fichier à poster** : *tme-04-Nom1_Nom2.ipynb* \n",
    "- *Nom1* et *Nom2* : noms des membres du binôme\n",
    "- ne pas compresser ou faire une archive: il faut rendre le fichier ipython tel quel, éventuellement, si vous avez d'autres fichiers vous les rendez séparément.\n",
    "\n",
    "**Echancier pour la soumission de votre compte-rendu:**\n",
    "- le compte-rendu d'une séance doit être remis obligatoirement <font color=\"RED\">avant la séance suivante</font>.\n",
    "\n",
    "**Le compte-rendu est soumis sur la page Moodle.**"
   ]
  },
  {
   "cell_type": "code",
   "execution_count": 2,
   "metadata": {},
   "outputs": [
    {
     "name": "stdout",
     "output_type": "stream",
     "text": [
      "Version Python:  3.7.3 (default, Jan 22 2021, 20:04:44) \n",
      "[GCC 8.3.0]\n"
     ]
    }
   ],
   "source": [
    "# Pour connaître la version de python utilisée:\n",
    "import sys\n",
    "print(\"Version Python: \",sys.version)\n",
    "\n",
    "# une version >= 3.7 est recommandée"
   ]
  },
  {
   "cell_type": "code",
   "execution_count": 3,
   "metadata": {},
   "outputs": [],
   "source": [
    "# Importation de librairies standards:\n",
    "import numpy as np\n",
    "import pandas as pd\n",
    "from datetime import datetime as dt\n",
    "import matplotlib.pyplot as plt\n",
    "%matplotlib inline  \n",
    "\n",
    "# un nouvel import utile pour la 3D:\n",
    "from matplotlib import cm\n",
    "\n",
    "# Les instructions suivantes sont TRES utiles pour recharger automatiquement \n",
    "# le code modifié dans les librairies externes\n",
    "%load_ext autoreload\n",
    "%autoreload 2"
   ]
  },
  {
   "cell_type": "markdown",
   "metadata": {},
   "source": [
    "## Création d'une librairie\n",
    "\n",
    "<div class=\"alert alert-block alert-success\">\n",
    "\n",
    "Afin de pouvoir réutiliser les classes et fonctions écrites précédemment dans les séances de TDTME, vous allez construire une librairie avec vos fonctions.\n",
    "\n",
    "Cette librairie, qui s'appellera IADS, contiendra toutes les classes et fonctions que vous allez développer lors de vos séances de TDTME. Elle sera construite donc séance après séance par l'ajout des nouvelles classes et fonctions que vous écrirez.\n",
    "\n",
    "<font color=\"RED\">Important:</font> dans un premier temps, vous devez écrire les classes et fonctions demandées dans le notebook de la séance de TDTME courante. A la séance suivante, ou une fois que tout fonctionne correctement, vous rajouterez les classes et fonctions écrites et testées dans vos fichiers de la librairie IADS pour pouvoir réutiliser vos classifieurs par la suite dans les séances suivantes.\n",
    "\n",
    "Récupérer et désarchiver l'archive iads.tgz de telle sorte que le répertoire `iads` soit un répertoire frère du répertoire `tme03`.\n",
    "\n",
    "Ainsi, vous devrez avoir une arborescence qui ressemble à ça:\n",
    "\n",
    "    - LU3IN026/\n",
    "        - tme-01/\n",
    "            - tme-01.ipynb\n",
    "        - tme-02/\n",
    "            - tme-02.ipynb\n",
    "        - tme-03/\n",
    "            - tme-03.ipynb\n",
    "        - tme-04/\n",
    "            - tme-04.ipynb\n",
    "        - iads/\n",
    "            - Classifiers.py\n",
    "            - utils.py\n",
    "            - evaluation.py\n",
    "            - __init__.py\n",
    "          \n",
    "\n",
    "<b>Important</b> :\n",
    "- ce fichier tme-04.ipynb doit toujours rester dans le répertorie tme-04/\n",
    "- pour ouvrir les fichiers python (extension .py) qui se trouvent dans le répertoire iads/ il est nécessaire d'utiliser un éditeur de texte comme emacs, gedit, idle,...\n",
    "</div>\n",
    "\n",
    "<font color=\"RED\" size=\"+1\">**[Q]**</font> **Ouvrir et compléter les fichiers Classifiers.py et utils.py**\n",
    "\n",
    "Pour compléter ces fichiers, reprendre le code écrit dans les TDTME précédents.\n",
    "- dans `utils.py`, il faut compléter les fonctions `plot2DSet`, `genere_dataset_uniform`, `genere_dataset_gaussian`, et `create_XOR`\n",
    "- dans `Classifiers.py`, il faut compléter le code des classifiers que vous avez déjà définis"
   ]
  },
  {
   "cell_type": "markdown",
   "metadata": {},
   "source": [
    "<font color=\"RED\" size=\"+1\">**[Q]**</font> **Mise à jour de la librairie `iads`**\n",
    "\n",
    "En premier lieu, vérifier que votre librairie `iads` est bien à jour : elle doit maintenant contenir toutes les fonctions et classes que mises au point et testées dans les séances précédentes. Une fois à jour, importer la librairie pour pouvoir l'utiliser dans ce notebook:"
   ]
  },
  {
   "cell_type": "code",
   "execution_count": 4,
   "metadata": {},
   "outputs": [],
   "source": [
    "# Importation de votre librairie iads:\n",
    "# La ligne suivante permet de préciser le chemin d'accès à la librairie iads\n",
    "import sys\n",
    "sys.path.append('../')   # iads doit être dans le répertoire père du répertoire courant !\n",
    "\n",
    "# Importation de la librairie iads\n",
    "import iads as iads\n",
    "\n",
    "# importation de Classifiers\n",
    "from iads import Classifiers as classif\n",
    "\n",
    "# importation de utils\n",
    "from iads import utils as ut"
   ]
  },
  {
   "cell_type": "markdown",
   "metadata": {},
   "source": [
    "<b>Attention:</b> à partir d'ici, lorsque vous voulez utiliser un algorithme qui se trouve dans le fichier `Classifier.py` il est nécessaire de préfixer son nom par `classif.` et pour utiliser une fonction du fichier `utils.py`, il faut préfixer le nom de la fonction par `ut.`\n",
    "\n",
    "\n",
    "Dans les boîtes qui vont suivre, on appliquera ce principe."
   ]
  },
  {
   "cell_type": "code",
   "execution_count": 5,
   "metadata": {},
   "outputs": [
    {
     "name": "stdout",
     "output_type": "stream",
     "text": [
      "Taille du dataset généré : (40, 2) exemples\n"
     ]
    },
    {
     "data": {
      "image/png": "[encoded data removed]",
      "text/plain": [
       "<Figure size 432x288 with 1 Axes>"
      ]
     },
     "metadata": {
      "needs_background": "light"
     },
     "output_type": "display_data"
    }
   ],
   "source": [
    "# REMARQUE: une fois les importations faites, les fonctions de utils sont utilisables\n",
    "#  en mettant ut. devant leur nom:\n",
    "\n",
    "# Exemple d'utilisation:\n",
    "np.random.seed(42)   # on prend 42 comme graine\n",
    "\n",
    "d_desc_gauss, d_lab_gauss = ut.genere_dataset_gaussian(np.array([1,1]),1,np.array([-0.5,-1]),1,20)\n",
    "\n",
    "print(\"Taille du dataset généré :\", np.shape(d_desc_gauss), \"exemples\")\n",
    "\n",
    "# Affichage :\n",
    "ut.plot2DSet(d_desc_gauss,d_lab_gauss)"
   ]
  },
  {
   "cell_type": "code",
   "execution_count": 6,
   "metadata": {},
   "outputs": [
    {
     "name": "stdout",
     "output_type": "stream",
     "text": [
      "Accuracy :  0.85\n"
     ]
    },
    {
     "data": {
      "image/png": "[encoded data removed]",
      "text/plain": [
       "<Figure size 432x288 with 1 Axes>"
      ]
     },
     "metadata": {
      "needs_background": "light"
     },
     "output_type": "display_data"
    }
   ],
   "source": [
    "# De même, les classes de Classifiers sont utilisables en mettant classif. devant leur nom:\n",
    "# Création d'un perceptron\n",
    "perceptron = classif.ClassifierPerceptron(2,0.01)\n",
    "\n",
    "data = d_desc_gauss\n",
    "label = d_lab_gauss\n",
    "\n",
    "perceptron.train(data, label)\n",
    "print(\"Accuracy : \", perceptron.accuracy(data,label))\n",
    "\n",
    "# Affichage de la frontière de séparation des classes\n",
    "ut.plot_frontiere(data,label,perceptron)\n",
    "ut.plot2DSet(data,label)"
   ]
  },
  {
   "cell_type": "markdown",
   "metadata": {},
   "source": [
    "Voilà, à partir de maintenant, vous pourrez donc ainsi réutiliser dans vos notebooks des classes et des fonctions écrites précédemment sans avoir à recopier tout le code implémenté !"
   ]
  },
  {
   "cell_type": "markdown",
   "metadata": {},
   "source": [
    "## Fonctions d'affichages avancées\n",
    "\n",
    "Dans cette première partie, nous abordons deux choses: \n",
    "1. un complément sur les fonctions d'affichage\n",
    "1. un petit complément sur le perceptron\n",
    "\n",
    "Commençons donc par l'affichage. L'idée est de faire un mini tutoriel sur l'affichage 3D, les isocontours etc... Dans toutes ces situations, il faut d'abord créer une grille de points puis évaluer votre fonction sur tous les points de la grille. Les fonctions proposées se chargent de l'interpolation entre les points de la grille. \n",
    "\n",
    "Il faut ensuite penser à ajouter les points du jeu de données et à sauvegarder le tout.\n",
    "\n",
    "Ces nouvelles fonctions vont vous permettre de bien comprendre ce qui se passe en terme de décision dans l'espace de représentation des points.\n"
   ]
  },
  {
   "cell_type": "code",
   "execution_count": 7,
   "metadata": {},
   "outputs": [],
   "source": [
    "def plot_frontiere_V3(desc_set, label_set, w, kernel, step=30, forme=1, fname=\"out/tmp.pdf\"):\n",
    "    \"\"\" desc_set * label_set * array * function * int * int * str -> NoneType\n",
    "        Note: le classifieur linéaire est donné sous la forme d'un vecteur de poids pour plus de flexibilité\n",
    "    \"\"\"\n",
    "    # -----------\n",
    "    # ETAPE 1: construction d'une grille de points sur tout l'espace défini par les points du jeu de données\n",
    "    mmax=desc_set.max(0)\n",
    "    mmin=desc_set.min(0)\n",
    "    x1grid,x2grid=np.meshgrid(np.linspace(mmin[0],mmax[0],step),np.linspace(mmin[1],mmax[1],step))\n",
    "    grid=np.hstack((x1grid.reshape(x1grid.size,1),x2grid.reshape(x2grid.size,1)))\n",
    "    \n",
    "    # -----------\n",
    "    # Si vous avez du mal à saisir le concept de la grille, décommentez ci-dessous\n",
    "    #plt.figure()\n",
    "    #plt.scatter(grid[:,0],grid[:,1])\n",
    "    #if True:\n",
    "    #    return\n",
    "    \n",
    "    # -----------\n",
    "    # ETAPE 2: calcul de la prediction pour chaque point de la grille\n",
    "    res=np.array([kernel(grid[i,:])@w for i in range(len(grid)) ])\n",
    "    # pour les affichages avancés, chaque dimension est présentée sous la forme d'une matrice\n",
    "    res=res.reshape(x1grid.shape) \n",
    "    \n",
    "    # -----------\n",
    "    # ETAPE 3: le tracé\n",
    "    #\n",
    "    # CHOIX A TESTER en décommentant:\n",
    "    # 1. lignes de contours + niveaux\n",
    "    if forme <= 2 :\n",
    "        fig, ax = plt.subplots() # pour 1 et 2\n",
    "        ax.set_xlabel('X_1')\n",
    "        ax.set_ylabel('X_2')\n",
    "    if forme == 1:\n",
    "        CS = ax.contour(x1grid,x2grid,res)\n",
    "        ax.clabel(CS, inline=1, fontsize=10)\n",
    "    #\n",
    "    # 2. lignes de contour 0 = frontière \n",
    "    if forme == 2:\n",
    "        CS = ax.contour(x1grid,x2grid,res, levels=[0], colors='k')\n",
    "    #\n",
    "    # 3. fonction de décision 3D\n",
    "    if forme == 3 or forme == 4:\n",
    "        fig = plt.gcf()\n",
    "        ax = fig.gca(projection='3d') # pour 3 et 4\n",
    "        ax.set_xlabel('X_1')\n",
    "        ax.set_ylabel('X_2')\n",
    "        ax.set_zlabel('f(X)')\n",
    "    # \n",
    "    if forme == 3:\n",
    "        surf = ax.plot_surface(x1grid,x2grid,res, cmap=cm.coolwarm)\n",
    "    #\n",
    "    # 4. fonction de décision 3D contour grid + transparence\n",
    "    if forme == 4:\n",
    "        norm = plt.Normalize(res.min(), res.max())\n",
    "        colors = cm.coolwarm(norm(res))\n",
    "        rcount, ccount, _ = colors.shape\n",
    "        surf = ax.plot_surface(x1grid,x2grid,res, rcount=rcount, ccount=ccount, facecolors=colors, shade=False)\n",
    "        surf.set_facecolor((0,0,0,0))\n",
    "    \n",
    "    # -----------\n",
    "    # ETAPE 4: ajout des points\n",
    "    negatifs = desc_set[label_set == -1]     # Ensemble des exemples de classe -1\n",
    "    positifs = desc_set[label_set == +1]     # +1 \n",
    "    # Affichage de l'ensemble des exemples en 2D:\n",
    "    if forme <= 2:\n",
    "        ax.scatter(negatifs[:,0],negatifs[:,1], marker='o', c='b') # 'o' pour la classe -1\n",
    "        ax.scatter(positifs[:,0],positifs[:,1], marker='x', c='r') # 'x' pour la classe +1\n",
    "    else:\n",
    "        # on peut ajouter une 3ème dimension si on veut pour 3 et 4\n",
    "        ax.scatter(negatifs[:,0],negatifs[:,1], -1, marker='o', c='b') # 'o' pour la classe -1\n",
    "        ax.scatter(positifs[:,0],positifs[:,1], 1,  marker='x', c='r') # 'x' pour la classe +1\n",
    "    \n",
    "    # -----------\n",
    "    # ETAPE 5 en 3D: régler le point de vue caméra:\n",
    "    if forme == 3 or forme == 4:\n",
    "        ax.view_init(20, 70) # a régler en fonction des données\n",
    "    \n",
    "    # -----------\n",
    "    # ETAPE 6: sauvegarde (le nom du fichier a été fourni en argument)\n",
    "    if fname != None:\n",
    "        # avec les options pour réduires les marges et mettre le fond transprent\n",
    "        plt.savefig(fname,bbox_inches='tight', transparent=True,pad_inches=0)"
   ]
  },
  {
   "cell_type": "markdown",
   "metadata": {},
   "source": [
    "La boite suivante permet de tester la fonction `plot_frontiere_V3`.\n",
    "\n",
    "**Important**: avant de l'exécuter, vérifier qu'il existe le répertoire `out` dans le répertoire courant (celui qui contient aussi ce notebook). Ce répertoire `out` est utilisé pour sauvegarder, au format PDF, les figures obtenues."
   ]
  },
  {
   "cell_type": "code",
   "execution_count": 9,
   "metadata": {},
   "outputs": [
    {
     "data": {
      "image/png": "[encoded data removed]",
      "text/plain": [
       "<Figure size 432x288 with 1 Axes>"
      ]
     },
     "metadata": {
      "needs_background": "light"
     },
     "output_type": "display_data"
    }
   ],
   "source": [
    "np.random.seed(42)   # on prend 42 comme graine\n",
    "\n",
    "# test de la fonction ci-dessus\n",
    "# NOTE: le test est générique... Mais il est améliorable en déléguant la génération de données\n",
    "# aux fonctions que vous avez mise en place dans utils\n",
    "\n",
    "# Génération rapide d'un jeu de données 2D:\n",
    "N = 100\n",
    "sig1  = np.array([[1, 0],[0,1]])\n",
    "sig2  = np.array([[1, 0],[0,1]])\n",
    "mu1   = np.array([-1.5, -2])\n",
    "mu2   = np.array([1, 1.5])\n",
    "sig_b = 3\n",
    "Y = np.array([1]*N + [-1]*N)\n",
    "X = np.random.randn(2*N,2)\n",
    "X[Y==1]  = X[Y==1]  @ sig1 + mu1\n",
    "X[Y==-1] = X[Y==-1] @ sig2 + mu2\n",
    "\n",
    "w = np.array([1, 1])\n",
    "\n",
    "def k_id(x): # fonction identité (juste pour être compatible avec les kernels ensuite)\n",
    "    return x\n",
    "\n",
    "f = 0 # A tester : 0, 1, 2, 3, 4 \n",
    "plot_frontiere_V3(X, Y, w, k_id, step=10, forme = f, fname=\"out/test\"+str(f)+\".png\")\n",
    "# REMARQUE: l'extention peut être changée en \".pdf\" pour générer un fichier image en PDF\n",
    "\n",
    "# --> un fichier a été créé dans le répertoire out"
   ]
  },
  {
   "cell_type": "markdown",
   "metadata": {},
   "source": [
    "Aller dans le répertoire `out` avec un navigateur de fichiers (ou par le terminal) et ouvrir le fichier `test0.png` obtenu."
   ]
  },
  {
   "cell_type": "markdown",
   "metadata": {},
   "source": [
    "## Compléments sur le perceptron\n",
    "\n",
    "<div class=\"alert alert-block alert-info\">\n",
    "\n",
    "Afin d'améliorer notre classifieur perceptron, nous allons considérer une version modifiée de la classe `ClassifierPerceptronBiais`, que nous appellerons `ClassifierPerceptronBiais` pour construire un perceptron en utilisant un <b>biais</b> qui facilite la convergence du modèle: pour déterminer si une mise à jour des poids doit être faite, le critère de mauvaise classification est remplacé par\n",
    "$$ f(\\mathbf x_i) y_i < 1 $$\n",
    "où $f(\\mathbf x_i)$ est le score obtenu pour $x_i$.\n",
    "\n",
    "<b>Idée</b>: on veut que $f(\\mathbf x_i)$ et $y_i$ soient du même signe ET que $f(\\mathbf x_i)$ soit suffisamment grand (en valeur absolue).\n",
    "    \n",
    "C'est une version dite *stabilisée* du perceptron où les points ne sont considérés bien classés que lorsque $f(\\mathbf x_i) y_i \\geq 1$. Dans le cas contraire, on met à jour les poids.\n",
    "\n",
    "La mise à jour des poids tient alors compte de ce biais: $$ w = w +\\epsilon (y_i- f(\\mathbf x_i))x_i.$$\n",
    "\n",
    "Pour garder une trace de la variation des valeurs de $w$, la classe `ClassifierPerceptronBiais` à écrire doit contenir :\n",
    "- un attribut ```allw``` (par exemple, de type liste) pour stocker toutes les valeurs successives de ```w``` rencontrée lors de l'entraînement du perceptron. Cet attribut est donc à mettre jour pendant l'entraînement du perceptron, après changement de valeur des poids. <b>Remarque</b>: attention ! pour copier le vecteur $w$ penser à faire une copie profonde...\n",
    "- un accesseur `get_allw()` permettant de récupérer la valeur de `allw`.\n",
    "</div>    \n",
    "    \n"
   ]
  },
  {
   "cell_type": "markdown",
   "metadata": {},
   "source": [
    "<font color=\"RED\" size=\"+1\"><b>[Q]</b></font> Ecrire la classe `ClassifierPerceptronBiais` (soit dans une boîte de ce notebook, soit en complétant directement votre fichier `Classifiers.py`) et tester le code suivant qui doit être fonctionnel. \n",
    "\n"
   ]
  },
  {
   "cell_type": "code",
   "execution_count": 10,
   "metadata": {},
   "outputs": [
    {
     "data": {
      "text/plain": [
       "<matplotlib.legend.Legend at 0x7f3878f3d860>"
      ]
     },
     "execution_count": 10,
     "metadata": {},
     "output_type": "execute_result"
    },
    {
     "data": {
      "image/png": "[encoded data removed]",
      "text/plain": [
       "<Figure size 432x288 with 1 Axes>"
      ]
     },
     "metadata": {
      "needs_background": "light"
     },
     "output_type": "display_data"
    }
   ],
   "source": [
    "np.random.seed(42)   # on prend 42 comme graine\n",
    "\n",
    "# Paramètres pour le perceptron:\n",
    "dim = 2\n",
    "eps = 5e-3\n",
    "\n",
    "# Création et entraînement du perceptron sur les données générées\n",
    "\n",
    "# -------------------------------\n",
    "\n",
    "## La classe ClassifierPerceptronBiais a été mise dans Classifier.py :\n",
    "perc = classif.ClassifierPerceptronBiais(dim, eps)\n",
    "\n",
    "## La classe ClassifierPerceptronBiais se trouve dans ce notebook :\n",
    "#perc = ClassifierPerceptronBiais(dim, eps)\n",
    "# -------------------------------\n",
    "\n",
    "les_differences = perc.train(X, Y,)\n",
    "\n",
    "# récupération de l'évolution des w au cours de l'apprentissage \n",
    "# perceptron initialisé à 0\n",
    "# si allw est sous forme de liste de couples [w1, w2], on doit la convertir en np.array pour la suite:\n",
    "allw = np.array(perc.get_allw()) \n",
    "\n",
    "# Tracé de l'évolution des w:\n",
    "plt.figure()\n",
    "plt.plot(allw[:,0]) # première coordonnée du vecteur poids: w1\n",
    "plt.plot(allw[:,1]) # deuxième coordonnée du vecteur poids: w2\n",
    "plt.title('Evolution des w au cours des itérations du perceptron')\n",
    "plt.xlabel('iterations')\n",
    "plt.legend(['w1','w2'])\n",
    "\n",
    "# Sauvegarde de la figure obtenue (décommenter la ligne ci-dessous):\n",
    "#plt.savefig('out/cvg.png')"
   ]
  },
  {
   "cell_type": "markdown",
   "metadata": {},
   "source": [
    "<b>Remarque</b>: dans ce qui suit, on considére que la classe `ClassifierPerceptronBiais` se trouve dans le fichier `Classifier.py`, pensez à modifier son utilisation si ce n'est pas votre cas (ie. si votre classe se trouve dans ce notebook)."
   ]
  },
  {
   "cell_type": "markdown",
   "metadata": {},
   "source": [
    "## Animation de l'évolution du perceptron\n",
    "\n",
    "En combinant la récupération de tous les $w$ et les affichages précédents, on peut représenter l'évolution de de la frontière de décision au cours des itérations...\n",
    "\n",
    "Attention, si le problème est trop simple, ça va converger une 1 itération et il n'y aura plus rien à voir !!"
   ]
  },
  {
   "cell_type": "code",
   "execution_count": 11,
   "metadata": {},
   "outputs": [
    {
     "name": "stdout",
     "output_type": "stream",
     "text": [
      "Les figures ont été sauvegardées dans votre répertoire out !\n"
     ]
    },
    {
     "data": {
      "text/plain": [
       "<Figure size 432x288 with 0 Axes>"
      ]
     },
     "metadata": {},
     "output_type": "display_data"
    }
   ],
   "source": [
    "# Pour éviter certains warning dans jupyter, cela peut être utile:\n",
    "import warnings\n",
    "warnings.filterwarnings('ignore')\n",
    "\n",
    "# tout le code est fourni, ce n'est que de l'affichage\n",
    "# on génère les images associées à l'évolution de l'algo\n",
    "for i in range(20): # borne arbitraire (ca converge très vite sur les cas simples)\n",
    "    plot_frontiere_V3(X, Y, allw[i], k_id, step=10, forme = 4, fname=\"out/evol_percep_{:02}.png\".format(i))\n",
    "    plt.clf() # pour ne pas que les plot se superposent\n",
    "    \n",
    "print(\"Les figures ont été sauvegardées dans votre répertoire out !\")    "
   ]
  },
  {
   "cell_type": "code",
   "execution_count": 12,
   "metadata": {},
   "outputs": [],
   "source": [
    "# si vous avez convert/imagemagick installé sur votre ordinateur: => Faire un gif animé :)\n",
    "# rapppel: avec le !, vous invoquez des commandes dans la console\n",
    "!convert -delay 50 -antialias -dispose previous out/evol_percep_* out/anim_pcp.gif\n",
    "\n",
    "\n",
    "# Remarque: le résultat est dans le répertoire out/\n",
    "# ---> ouvrez le fichier qui a été créé (anim_pcp.gif) avec un visionneur d'images afin de voir \n",
    "# l'animation créée."
   ]
  },
  {
   "cell_type": "markdown",
   "metadata": {},
   "source": [
    "**ATTENTION**: la commande précédente génére beaucoup de fichiers dans votre répertoire `out`, pensez à les supprimer une fois que vous n'en avez plus besoin pour ne pas encombrer votre espace disque..."
   ]
  },
  {
   "cell_type": "markdown",
   "metadata": {},
   "source": [
    "# Lien avec l'optimisation des fonctions de coût\n",
    "\n",
    "Après ces rappels de code, nous entrons maintenant dans le vif du sujet !\n",
    "\n",
    "<div class=\"alert alert-block alert-info\">\n",
    "    \n",
    "Nous avons vu en cours que l'évolution des poids du perceptron correspond en réalité à l'optimisation de la fonction coût suivante :\n",
    "\n",
    "$$ \\mathcal C = \\sum_{i=1}^N (1- f(\\mathbf x_i) y_i)_+, \\qquad \\mbox{avec: } \n",
    "(\\alpha)_+ = \\left\\{\\begin{array}{ll}\n",
    "\\alpha & \\mbox{ si } \\alpha >0\\\\\n",
    "0 & \\mbox{ sinon }\n",
    "\\end{array}\\right.$$\n",
    "\n",
    "Nous utilisons ici une version *stabilisée* du perceptron où les points ne sont bien classé que lorsque \n",
    "$f(\\mathbf x_i) y_i>1$\n",
    "\n",
    "Le perceptron est une simple descente de gradient.\n",
    "\n",
    "Deux questions se posent alors :\n",
    "1. Quelle est l'évolution de $\\mathcal C$ au cours des itérations ?\n",
    "1. Quel chemin de variations prennent les $w$ dans le cas 2D ?\n",
    "    \n",
    "</div>    "
   ]
  },
  {
   "cell_type": "markdown",
   "metadata": {},
   "source": [
    "<font color=\"RED\" size=\"+1\">**[Q]**</font> Donner les instructions qui permettent de tracer l'évolution du coût $ \\mathcal C$ au cours des itérations lors de l'apprentissage précédent. Pour cela, vous utiliserez les valeurs de $w$ sauvegardées lors de l'apprentissage."
   ]
  },
  {
   "cell_type": "code",
   "execution_count": 13,
   "metadata": {},
   "outputs": [
    {
     "data": {
      "text/plain": [
       "Text(0.5, 1.0, 'Evolution du cout')"
      ]
     },
     "execution_count": 13,
     "metadata": {},
     "output_type": "execute_result"
    },
    {
     "data": {
      "image/png": "[encoded data removed]",
      "text/plain": [
       "<Figure size 432x288 with 1 Axes>"
      ]
     },
     "metadata": {
      "needs_background": "light"
     },
     "output_type": "display_data"
    }
   ],
   "source": [
    "def cout(liste_w):\n",
    "    C=[]\n",
    "    for i in range(len(liste_w)):\n",
    "        ci=0\n",
    "        for j in range(len(Y)):\n",
    "            tmp = 1-np.dot(liste_w[i],X[j])*Y[j]#f(xi)=w*X\n",
    "            if tmp > 0:\n",
    "                ci = ci + tmp\n",
    "        C.append(ci)\n",
    "    return C\n",
    "C = cout(perc.get_allw())\n",
    "plt.figure()\n",
    "plt.plot(C)\n",
    "plt.title('Evolution du cout')\n"
   ]
  },
  {
   "cell_type": "markdown",
   "metadata": {},
   "source": [
    "### Evolution des poids dans l'espace des paramètres\n",
    "\n",
    "Le code pour étudier l'évolution des poids dans l'espace des paramères est presque entièrement donné ci-dessous... Sauf une ligne critique !\n",
    "\n",
    "<b>Remarque</b>: il faut absolument comprendre la signification du code et de l'image produite.\n"
   ]
  },
  {
   "cell_type": "code",
   "execution_count": 14,
   "metadata": {},
   "outputs": [
    {
     "data": {
      "text/plain": [
       "<matplotlib.collections.PathCollection at 0x7f3878da5e10>"
      ]
     },
     "execution_count": 14,
     "metadata": {},
     "output_type": "execute_result"
    },
    {
     "data": {
      "image/png": "[encoded data removed]",
      "text/plain": [
       "<Figure size 432x288 with 1 Axes>"
      ]
     },
     "metadata": {
      "needs_background": "light"
     },
     "output_type": "display_data"
    }
   ],
   "source": [
    "# Evolution des poids dans l'espace des paramètres\n",
    "# le code est presque entièrement donné... Sauf une ligne critique\n",
    "# Il faut absolument comprendre la signification du code et de l'image produite\n",
    "\n",
    "# 1. Construction d'une grille de 'toutes' les valeurs possibles de w dans les bornes de allw\n",
    "mmax=allw.max(0)\n",
    "mmin=allw.min(0)\n",
    "x1grid,x2grid=np.meshgrid(np.linspace(mmin[0],mmax[0],30),np.linspace(mmin[1],mmax[1],30))\n",
    "grid=np.hstack((x1grid.reshape(x1grid.size,1),x2grid.reshape(x2grid.size,1)))\n",
    "# 2. Evaluation du cout pour toutes ces solutions potentielles\n",
    "\n",
    "##########\n",
    "# LIGNE A COMPLETER:\n",
    "# construction de res = calcul du cout du perceptron pour tous les couples\n",
    "# (w1,w2) définis dans grid\n",
    "##########\n",
    "res = np.array(cout(grid))\n",
    "\n",
    "# remise en forme de res\n",
    "res=res.reshape(x1grid.shape) \n",
    "fig, ax = plt.subplots() # pour 1 et 2\n",
    "ax.set_xlabel('$w_1$')\n",
    "ax.set_ylabel('$w_2$')\n",
    "CS = ax.contour(x1grid,x2grid,res)\n",
    "ax.clabel(CS, inline=1, fontsize=10)\n",
    "\n",
    "# ajoute de la couleur: jaune = plus grande itération\n",
    "ax.scatter(allw[:,0], allw[:,1], c=np.arange(len(allw)))\n",
    "\n",
    "# Sauvegarde de la figure obtenue (décommenter la ligne ci-dessous):\n",
    "#plt.savefig(\"out/espace_param.png\")"
   ]
  },
  {
   "cell_type": "markdown",
   "metadata": {},
   "source": [
    "La solution initiale $w=[0,0]$ correspond à un coût élevé. L'algorithme du perceptron fait évoluer les poids du modèle pour aller dans une zone de l'espace où le coût est moindre.\n",
    "\n",
    "**ATTENTION** à ne pas confondre l'espace de représentation des points (où les axes sont $X_1,X_2$) et l'espace de représentation des paramètres (ici, où chaque point correspond à un classifieur associé à un niveau de coût)."
   ]
  },
  {
   "cell_type": "markdown",
   "metadata": {},
   "source": [
    "# Validation Croisée\n",
    "\n",
    "Dans le but d'évaluer un classifier, nous avons vu dans le TME 3 qu'il était important de posséder un ensemble de données de test, différent de l'ensemble d'apprentissage.\n",
    "\n",
    "Nous allons voir maintenant une méthode encore plus efficace pour bien évaluer un algorithme.\n",
    "\n",
    "<div class=\"alert alert-block alert-info\">\n",
    "\n",
    "La procédure de la <b>validation croisée</b> (ou <i>cross validation</i>) est au centre de la plupart des applications de machine learning: il est temps pour nous de travailler sur une implémentation.\n",
    "\n",
    "L'idée est de concevoir la fonction suivante:\n",
    "```\n",
    "Xapp,Yapp,Xtest,Ytest = crossval(X, Y, n_iterations, iteration)\n",
    "```\n",
    "- ```X, Y``` sont les données du dataset **mélangées aléatoirement**\n",
    "- ```n_iterations``` est le nombre d'ensembles de test au total.\n",
    "- ```iteration``` est l'itération concernée: on ne renvoit pas les mêmes données en fonction des itérations.\n",
    "\n",
    "Après séparation des indices en ```n_iterations``` groupes, isoler 1 groupe pour le test et les autres pour l'apprentissage.\n",
    "\n",
    "\n",
    "<b>Remarques:</b>\n",
    "- on fait l'hypothèse que le dataset (`X`, `Y`) garde toujours le même ordre entre 2 appels de `crossval` successif avec des valeurs d'itération différentes.\n",
    "- cette fonction ne doit pas mélanger les données du dataset fourni (qui doit être mélangé au préalable), elle sert juste à extraire de ce dataset 2 sous-datasets: un dataset d'apprentissage (`Xapp`, `Yapp`) et un dataset de test (`Xtest`, `Ytest`).\n",
    "- elle extrait les datasets demandés comme suit:\n",
    "    - le dataset de test pour l'itération $i$ contient les exemples du dataset $X$ dont les indices vont de $i\\frac{len(X)}{n}$ à  $(i+1)\\frac{len(X)}{n}-1$ (avec $n$ le nombre d'itérations `n_iterations` fixé).\n",
    "    - le dataset d'apprentissage pour l'itération $i$ contient les exemples du dataset $X$ contient les exemples qui ne sont pas dans le dataset de test.\n",
    "\n",
    "</div>    \n",
    "    \n",
    "**Note** Pour mélanger les données au départ, avant le premier appel de `crossval`, vous pouvez utiliser les commandes suivantes:\n",
    "```\n",
    "index = np.random.permutation(len(X)) # mélange des index\n",
    "Xm = X[index]\n",
    "Ym = Y[index]\n",
    "\n",
    "# check: malgré le mélange, les données doivent être les mêmes\n",
    "plt.figure()\n",
    "plt.scatter(Xm[Ym==1,0], Xm[Ym==1,1], c='b')\n",
    "plt.scatter(Xm[Ym==-1,0], Xm[Ym==-1,1], c='r')\n",
    "```\n"
   ]
  },
  {
   "cell_type": "markdown",
   "metadata": {},
   "source": [
    "<font color=\"RED\" size=\"+1\">**[Q]**</font> Donner la définition de la fonction `crossval` telle qu'elle est décrite."
   ]
  },
  {
   "cell_type": "code",
   "execution_count": 15,
   "metadata": {},
   "outputs": [],
   "source": [
    "def crossval(X, Y, n_iterations, iteration):\n",
    "    \"\"\"extrait 02 sous data sets un d'apprentissage et l'autre de test\"\"\"\n",
    "    i_deb_test = iteration*int((len(X)/n_iterations))\n",
    "    i_fin_test = (iteration+1)*int((len(X)/n_iterations))-1\n",
    "    Ytest = Y[i_deb_test:i_fin_test+1]\n",
    "    Xtest = X[i_deb_test:i_fin_test+1]\n",
    "    Xapp = np.concatenate((X[0:i_deb_test],X[i_fin_test+1:len(X)]))\n",
    "    Yapp = np.concatenate((Y[0:i_deb_test],Y[i_fin_test+1:len(X)]))\n",
    "    return Xapp, Yapp, Xtest, Ytest\n",
    "\n"
   ]
  },
  {
   "cell_type": "code",
   "execution_count": 16,
   "metadata": {},
   "outputs": [
    {
     "name": "stdout",
     "output_type": "stream",
     "text": [
      "========== ITERATION :  0  ==========\n",
      " Xapp= [[21  5  2 12 15  3  4 22 17 20 23  7 10 14 19  6]] \n",
      " Yapp= [ 1 -1 -1  1  1 -1 -1  1  1  1  1 -1 -1  1  1 -1] \n",
      " Xtest= [[ 8 16  0 18 11  9 13  1]] \n",
      " Ytest= [-1  1 -1  1 -1 -1  1 -1]\n",
      "========== ITERATION :  1  ==========\n",
      " Xapp= [[ 8 16  0 18 11  9 13  1 17 20 23  7 10 14 19  6]] \n",
      " Yapp= [-1  1 -1  1 -1 -1  1 -1  1  1  1 -1 -1  1  1 -1] \n",
      " Xtest= [[21  5  2 12 15  3  4 22]] \n",
      " Ytest= [ 1 -1 -1  1  1 -1 -1  1]\n",
      "========== ITERATION :  2  ==========\n",
      " Xapp= [[ 8 16  0 18 11  9 13  1 21  5  2 12 15  3  4 22]] \n",
      " Yapp= [-1  1 -1  1 -1 -1  1 -1  1 -1 -1  1  1 -1 -1  1] \n",
      " Xtest= [[17 20 23  7 10 14 19  6]] \n",
      " Ytest= [ 1  1  1 -1 -1  1  1 -1]\n"
     ]
    }
   ],
   "source": [
    "np.random.seed(42)   # on prend 42 comme graine\n",
    "\n",
    "# Exemple d'utilisation avec un dataset jouet (1 Dimension)\n",
    "N = 24  # Nombre d'exemples dans le dataset\n",
    "Xtoy = np.arange(N).reshape(N,1)\n",
    "Ytoy = np.array([-1]*(N//2) + [1]*(N//2))\n",
    "index = np.random.permutation(len(Xtoy)) # mélange des index\n",
    "XtoyMelange = Xtoy[index]\n",
    "YtoyMelange = Ytoy[index]\n",
    "\n",
    "niter = 3\n",
    "for i in range(niter):\n",
    "    Xapp,Yapp,Xtest,Ytest = crossval(XtoyMelange, YtoyMelange, niter, i)\n",
    "    print(\"========== ITERATION : \",i,\" ==========\")\n",
    "    print(\" Xapp=\", Xapp.T,\"\\n\",\"Yapp=\", Yapp,\"\\n\",\"Xtest=\",Xtest.T,\"\\n\",\"Ytest=\", Ytest)"
   ]
  },
  {
   "cell_type": "code",
   "execution_count": 17,
   "metadata": {},
   "outputs": [
    {
     "name": "stdout",
     "output_type": "stream",
     "text": [
      "========== ITERATION :  0  ==========\n",
      " Xapp= [ 6  7  8  9 10 11 12 13 14 15 16 17 18 19 20 21 22 23] \n",
      " Yapp= [ 6  7  8  9 10 11 12 13 14 15 16 17 18 19 20 21 22 23] \n",
      " Xtest= [0 1 2 3 4 5] \n",
      " Ytest= [0 1 2 3 4 5]\n",
      "========== ITERATION :  1  ==========\n",
      " Xapp= [ 0  1  2  3  4  5 12 13 14 15 16 17 18 19 20 21 22 23] \n",
      " Yapp= [ 0  1  2  3  4  5 12 13 14 15 16 17 18 19 20 21 22 23] \n",
      " Xtest= [ 6  7  8  9 10 11] \n",
      " Ytest= [ 6  7  8  9 10 11]\n",
      "========== ITERATION :  2  ==========\n",
      " Xapp= [ 0  1  2  3  4  5  6  7  8  9 10 11 18 19 20 21 22 23] \n",
      " Yapp= [ 0  1  2  3  4  5  6  7  8  9 10 11 18 19 20 21 22 23] \n",
      " Xtest= [12 13 14 15 16 17] \n",
      " Ytest= [12 13 14 15 16 17]\n",
      "========== ITERATION :  3  ==========\n",
      " Xapp= [ 0  1  2  3  4  5  6  7  8  9 10 11 12 13 14 15 16 17] \n",
      " Yapp= [ 0  1  2  3  4  5  6  7  8  9 10 11 12 13 14 15 16 17] \n",
      " Xtest= [18 19 20 21 22 23] \n",
      " Ytest= [18 19 20 21 22 23]\n"
     ]
    }
   ],
   "source": [
    "# Pour vérifier que le traitement est bien réalisé et que tout marche bien \n",
    "# en particulier (très important !) que le lien entre descriptions X et classes Y n'est pas perdu,\n",
    "# on peut regarder ce qui se passe si X et Y sont les mêmes:\n",
    "\n",
    "N = 24  # Nombre d'exemples dans le dataset\n",
    "Xjouet = np.array([i for i in range(0,N)])\n",
    "niter = 4\n",
    "for i in range(niter):\n",
    "    Xapp,Yapp,Xtest,Ytest = crossval(Xjouet, Xjouet, niter, i)\n",
    "    print(\"========== ITERATION : \",i,\" ==========\")\n",
    "    print(\" Xapp=\", Xapp.T,\"\\n\",\"Yapp=\", Yapp,\"\\n\",\"Xtest=\",Xtest.T,\"\\n\",\"Ytest=\", Ytest)"
   ]
  },
  {
   "cell_type": "markdown",
   "metadata": {},
   "source": [
    "<font color=\"RED\" size=\"+1\">**[Q]**</font> En fait, pour faire les choses correctement, il faut que la séparation des ensembles train/test respecte la distribution des classes dans le dataset de départ. Ecrire la fonction `crossval_strat` qui effectue la même chose que la fonction précédente mais en respectant la distribution des classes. La solution passe par un découpage qui s'effectue par classe.\n"
   ]
  },
  {
   "cell_type": "code",
   "execution_count": 18,
   "metadata": {},
   "outputs": [],
   "source": [
    "# code de la validation croisée (version qui respecte la distribution des classes)\n",
    "\n",
    "def crossval_strat(X, Y, n_iterations, iteration):\n",
    "    #classe 1\n",
    "    w1 = np.where(Y==1)[0]\n",
    "    Y1 = Y[w1]\n",
    "    X1 = X[w1]\n",
    "    #classe -1\n",
    "    w_1 = np.where(Y==-1)[0]\n",
    "    Y_1 = Y[w_1]\n",
    "    X_1 = X[w_1]\n",
    "    Xapp1, Yapp1, Xtest1, Ytest1 = crossval(X1,Y1,n_iterations,iteration)\n",
    "    Xapp2, Yapp2, Xtest2, Ytest2 = crossval(X_1,Y_1,n_iterations,iteration)\n",
    "    return np.concatenate((Xapp2,Xapp1)), np.concatenate((Yapp2,Yapp1)), np.concatenate((Xtest2,Xtest1)),np.concatenate((Ytest2,Ytest1))\n"
   ]
  },
  {
   "cell_type": "code",
   "execution_count": 19,
   "metadata": {},
   "outputs": [
    {
     "name": "stdout",
     "output_type": "stream",
     "text": [
      "========== ITERATION :  0  ==========\n",
      " Xapp= [[ 1  5  2  3  4  7 10  6 12 15 22 17 20 23 14 19]] \n",
      " Yapp= [-1 -1 -1 -1 -1 -1 -1 -1  1  1  1  1  1  1  1  1] \n",
      " Xtest= [[ 8  0 11  9 16 18 13 21]] \n",
      " Ytest= [-1 -1 -1 -1  1  1  1  1]\n",
      "========== ITERATION :  1  ==========\n",
      " Xapp= [[ 8  0 11  9  4  7 10  6 16 18 13 21 20 23 14 19]] \n",
      " Yapp= [-1 -1 -1 -1 -1 -1 -1 -1  1  1  1  1  1  1  1  1] \n",
      " Xtest= [[ 1  5  2  3 12 15 22 17]] \n",
      " Ytest= [-1 -1 -1 -1  1  1  1  1]\n",
      "========== ITERATION :  2  ==========\n",
      " Xapp= [[ 8  0 11  9  1  5  2  3 16 18 13 21 12 15 22 17]] \n",
      " Yapp= [-1 -1 -1 -1 -1 -1 -1 -1  1  1  1  1  1  1  1  1] \n",
      " Xtest= [[ 4  7 10  6 20 23 14 19]] \n",
      " Ytest= [-1 -1 -1 -1  1  1  1  1]\n"
     ]
    }
   ],
   "source": [
    "np.random.seed(42)   # on prend 42 comme graine\n",
    "\n",
    "# Exemple d'utilisation avec un dataset jouet (1 Dimension)\n",
    "N = 24  # Nombre d'exemples dans le dataset\n",
    "Xtoy = np.arange(N).reshape(N,1)\n",
    "Ytoy = np.array([-1]*(N//2) + [1]*(N//2))\n",
    "index = np.random.permutation(len(Xtoy)) # mélange des index\n",
    "XtoyMelange = Xtoy[index]\n",
    "YtoyMelange = Ytoy[index]\n",
    "\n",
    "niter = 3\n",
    "for i in range(niter):\n",
    "    Xapp,Yapp,Xtest,Ytest = crossval_strat(XtoyMelange, YtoyMelange, niter, i)\n",
    "    print(\"========== ITERATION : \",i,\" ==========\")\n",
    "    print(\" Xapp=\", Xapp.T,\"\\n\",\"Yapp=\", Yapp,\"\\n\",\"Xtest=\",Xtest.T,\"\\n\",\"Ytest=\", Ytest)"
   ]
  },
  {
   "cell_type": "markdown",
   "metadata": {},
   "source": [
    "## Tests de la procédure de validation croisée \n",
    "\n",
    "Sur des données réelles et sur des données jouets\n"
   ]
  },
  {
   "cell_type": "code",
   "execution_count": 20,
   "metadata": {},
   "outputs": [
    {
     "name": "stdout",
     "output_type": "stream",
     "text": [
      "Perf  [1.0, 1.0, 0.95, 1.0, 1.0, 1.0, 1.0, 0.9, 1.0, 1.0]\n"
     ]
    }
   ],
   "source": [
    "np.random.seed(42)   # on prend 42 comme graine\n",
    "# test sur les données jouet X, Y supposées pré-existantes\n",
    "\n",
    "index = np.random.permutation(len(X)) # mélange des index\n",
    "Xm = X[index]\n",
    "Ym = Y[index]\n",
    "niter = 10\n",
    "perf = []\n",
    "\n",
    "for i in range(niter):\n",
    "    Xapp,Yapp,Xtest,Ytest = crossval(Xm, Ym, niter, i)\n",
    "    perceptron = classif.ClassifierPerceptron(2, 1e-2)\n",
    "    perceptron.train(Xapp, Yapp)\n",
    "    perf.append(perceptron.accuracy(Xtest, Ytest))\n",
    "    \n",
    "print(\"Perf \",perf)"
   ]
  },
  {
   "cell_type": "markdown",
   "metadata": {},
   "source": [
    "<font color=\"RED\" size=\"+1\">**[Q]**</font> Tester la validation croisée sur les données USPS."
   ]
  },
  {
   "cell_type": "code",
   "execution_count": 21,
   "metadata": {},
   "outputs": [
    {
     "name": "stdout",
     "output_type": "stream",
     "text": [
      "Itération  0  : taille base appretissage =  1008  taille base de test =  111\n",
      "Itération  1  : taille base appretissage =  1008  taille base de test =  111\n",
      "Itération  2  : taille base appretissage =  1008  taille base de test =  111\n",
      "Itération  3  : taille base appretissage =  1008  taille base de test =  111\n",
      "Itération  4  : taille base appretissage =  1008  taille base de test =  111\n",
      "Itération  5  : taille base appretissage =  1008  taille base de test =  111\n",
      "Itération  6  : taille base appretissage =  1008  taille base de test =  111\n",
      "Itération  7  : taille base appretissage =  1008  taille base de test =  111\n",
      "Itération  8  : taille base appretissage =  1008  taille base de test =  111\n",
      "Itération  9  : taille base appretissage =  1008  taille base de test =  111\n",
      "Perf obtenues :  [0.990990990990991, 1.0, 1.0, 0.990990990990991, 0.990990990990991, 0.972972972972973, 0.9819819819819819, 0.9819819819819819, 0.990990990990991, 0.990990990990991]\n"
     ]
    }
   ],
   "source": [
    "# test sur les données USPS\n",
    "import pickle as pkl\n",
    "\n",
    "data = pkl.load(open('ressources/usps.pkl', 'rb'))\n",
    "Xu = np.array(data['X_train'], dtype=float) # conversion de type pour une meilleure compatibilité\n",
    "Yu = np.array(data['Y_train'], dtype=float)\n",
    "\n",
    "# Création d'un sous groupe de données\n",
    "c1 = 4  # ---> sera associée au label +1  \n",
    "c2 = 6  # ---> sera associée au label -1\n",
    "X12 = Xu[(Yu==c1) | (Yu==c2)]\n",
    "Y12 = np.where(Yu[(Yu==c1) | (Yu==c2)]==c1, 1, -1)\n",
    "\n",
    "index = np.random.permutation(len(Y12))\n",
    "Xm = X12[index]\n",
    "Ym = Y12[index]\n",
    "niter = 10\n",
    "perf = []\n",
    "\n",
    "for i in range(niter):\n",
    "    Xapp,Yapp,X_test,Y_test=crossval_strat(Xm,Ym,niter,i)\n",
    "    print(\"Itération \",i,\" : taille base appretissage = \",len(Xapp),\" taille base de test = \",len(X_test))\n",
    "    perceptron = classif.ClassifierPerceptron(256, 1e-2)\n",
    "    perceptron.train(Xapp, Yapp)\n",
    "    perf.append(perceptron.accuracy(X_test, Y_test))\n",
    "\n",
    "print(\"Perf obtenues : \",perf)"
   ]
  },
  {
   "cell_type": "markdown",
   "metadata": {},
   "source": [
    "<font color=\"RED\" size=\"+1\">**[Q]**</font> Pour évaluer un classifieur, on regarde la moyenne et la variance de son accurracy lors d'une validation croisée.\n",
    "\n",
    "Ecrire la fonction `analyse_perfs` qui prend en argument une liste de nombres réels (non vide) et renvoie le tuple constitué de la moyenne et de la variance de ces nombres.\n",
    "\n",
    "**Remarque**: la variance donne une information sur la \"robustesse\" du modèle. Plus la variance est grande, est plus cela signifie que la performance du classifieur dépend du jeu d'apprentissage qui a servi à le construire."
   ]
  },
  {
   "cell_type": "code",
   "execution_count": 22,
   "metadata": {},
   "outputs": [],
   "source": [
    "def analyse_perfs(liste_reel):\n",
    "    if (len(liste_reel)==0):\n",
    "        return (0,0)\n",
    "    return (np.mean(liste_reel),np.var(liste_reel))    "
   ]
  },
  {
   "cell_type": "code",
   "execution_count": 23,
   "metadata": {},
   "outputs": [
    {
     "data": {
      "text/plain": [
       "(0.9891891891891891, 6.168330492654805e-05)"
      ]
     },
     "execution_count": 23,
     "metadata": {},
     "output_type": "execute_result"
    }
   ],
   "source": [
    "# Sur les résultats obtenus dans la boîte précédemment:\n",
    "analyse_perfs(perf)"
   ]
  },
  {
   "cell_type": "markdown",
   "metadata": {},
   "source": [
    "# Version multi-classes\n",
    "\n",
    "<div class=\"alert alert-block alert-info\">\n",
    "\n",
    "Le perceptron est un algorithme fondamentalement bi-classes: il est même lié à la manière dont sont encodées les étiquettes $\\{+1,-1\\}$. La plupart des problèmes réels sont pourtant multi-classes (e.g. USPS).\n",
    "Si cet algorithme a pu rester aussi classique, c'est qu'il existe une extension multi-classes simple et efficace: le *un-contre-tous*:\n",
    "    \n",
    "<i>(si l'image ci-dessous ne s'affiche pas, aller la voir dans le répertoire ressources)</i>\n",
    "\n",
    "<img src=\"ressources/multi2.png\">\n",
    "\n",
    "    \n",
    "Il faut apprendre autant de classifieurs que de classes. \n",
    "Dans l'exemple ci-dessus, cela donne:\n",
    "\n",
    "1. Traitement de la classe 0\n",
    "1. redéfinition de:\n",
    "$$Y_{tmp} = \\left\\{\n",
    "\\begin{array}{ll}\n",
    "1 & \\text{ si } Y == 0\\\\ -1 & \\text{ si } Y == 1 || Y == 1\\\\\n",
    "\\end{array}\n",
    "\\right.\n",
    "$$\n",
    "1. apprentissage de $f_0$ sur $X,Y_{tmp}$\n",
    "1. Traitement de la classe 1\n",
    "1. redéfinition de:\n",
    "$$Y_{tmp} = \\left\\{\n",
    "\\begin{array}{ll}\n",
    "1 & \\text{ si } Y == 1\\\\\n",
    "-1 & \\text{ si } Y == 0 || Y == 2\\\\\n",
    "\\end{array}\\right.\n",
    "$$\n",
    "1. apprentissage de $f_1$ sur $X,Y_{tmp}$\n",
    "1. etc...\n",
    "\n",
    "\n",
    "En inférence, lorsqu'un nouveau point $\\mathbf x$ est présenté il faut:\n",
    "1. calculer $score = [f_0(\\mathbf x),  f_1(\\mathbf x), \\ldots f_C(\\mathbf x)]$\n",
    "1. prédire $\\text{argmax}_c (score)$\n",
    "\n",
    "    \n",
    "</div>"
   ]
  },
  {
   "cell_type": "markdown",
   "metadata": {},
   "source": [
    "<font color=\"RED\" size=\"+1\">**[Q]**</font> Construire une classe `Perceptron_MC` pour faire de la prédiction multi-classes et tester le code sur les données USPS."
   ]
  },
  {
   "cell_type": "code",
   "execution_count": 24,
   "metadata": {},
   "outputs": [],
   "source": [
    "class Perceptron_MC(classif.Classifier):\n",
    "    #on cree autant de perceptron que de classes \n",
    "    #on fait une boucle dans le train qui pour chaque classe i va encoder celle-ci à 1 et le reste à -1 et on refait cela nb_classe*nb_iteratiosn_train_fois\n",
    "    def __init__(self,input_dimension,nb_classes):\n",
    "        super().__init__(input_dimension)\n",
    "        self.nb_classes = nb_classes\n",
    "        self.liste_w = []\n",
    "    def train_MC(self,data_set,label_set, dim_perc,learning_rate,init,niter_max, seuil):\n",
    "        for i in range(self.nb_classes):\n",
    "            #on se ramène à un problème de classification binaire\n",
    "            #classe 1 ( c'est la classe courante (la ième))\n",
    "            w1 = np.where(label_set==i)[0]\n",
    "            tmp_label1 = label_set[w1]\n",
    "            tmp_label1[tmp_label1==i]=1\n",
    "            tmp_data1 = data_set[w1]\n",
    "            #classe -1 (le reste des classes)\n",
    "            w_1 = np.where(label_set!=i)[0]\n",
    "            tmp_label_1 = label_set[w_1]\n",
    "            tmp_label_1[tmp_label_1!=i]=-1\n",
    "            tmp_data_1 = data_set[w_1]\n",
    "            p = classif.ClassifierPerceptron(dim_perc,learning_rate,init)\n",
    "            p.train(np.concatenate((tmp_data_1,tmp_data1)),np.concatenate((tmp_label_1,tmp_label1)), niter_max, seuil)   \n",
    "            self.liste_w.append(p.w)\n",
    "    def score(self,x):\n",
    "        score=[]\n",
    "        for i in range(self.nb_classes):\n",
    "            score.append(np.dot(self.liste_w[i],x))\n",
    "        return score\n",
    "    def predict(self,x):\n",
    "        return np.argmax(self.score(x)) \n",
    "            \n",
    "            "
   ]
  },
  {
   "cell_type": "markdown",
   "metadata": {},
   "source": [
    "### Tests pour la version multi-classe:"
   ]
  },
  {
   "cell_type": "code",
   "execution_count": 25,
   "metadata": {},
   "outputs": [
    {
     "name": "stdout",
     "output_type": "stream",
     "text": [
      "Accuracy finale test :  0.9884393063583815\n",
      "Accuracy finale train :  1.0\n"
     ]
    }
   ],
   "source": [
    "data = pkl.load(open('ressources/usps.pkl', 'rb'))\n",
    "X_train = np.array(data['X_train'], dtype=float) # conversion de type pour une meilleure compatibilité\n",
    "Y_train = np.array(data['Y_train'], dtype=float)\n",
    "X_test = np.array(data['X_test'], dtype=float)\n",
    "Y_test = np.array(data['Y_test'], dtype=float)\n",
    "\n",
    "w_test = np.concatenate((np.where(Y_test==0)[0],np.where(Y_test==1)[0],np.where(Y_test==2)[0]))\n",
    "w_train = np.concatenate((np.where(Y_train==0)[0],np.where(Y_train==1)[0],np.where(Y_train==2)[0]))\n",
    "\n",
    "X_MC_test = X_test[w_test]#data\n",
    "Y_MC_test = Y_test[w_test]#label\n",
    "X_MC_train = X_train[w_train]#data\n",
    "Y_MC_train= Y_train[w_train]#label\n",
    "\n",
    "p_MC = Perceptron_MC(256,3)\n",
    "#############################\n",
    "p_MC.train_MC(X_MC_train,Y_MC_train,256,0.001,0,100,0.01)\n",
    "\n",
    "print(\"Accuracy finale test : \",p_MC.accuracy(X_MC_test,Y_MC_test))\n",
    "print(\"Accuracy finale train : \",p_MC.accuracy(X_MC_train,Y_MC_train))"
   ]
  },
  {
   "cell_type": "markdown",
   "metadata": {},
   "source": [
    "# Plus loin avec le multi-classes\n",
    "\n",
    "<div class=\"alert alert-block alert-info\">\n",
    "On ne va pas définir une version multi-classe par classifieur binaire...\n",
    "Il est possible de définir un classifieur générique multi-classe à partir de classifieur binaire (design pattern composite) en respectant le schéma suivant:\n",
    "\n",
    "1. ```ClassifierMultiOAA``` prend un classifieur binaire en argument lors de la création. Il initialise une liste vide de classifieurs.\n",
    "\n",
    "1. Dans la méthode ```train```, penser à cloner le classifeur de référence nCl fois.\n",
    "Il faut utiliser la méthode ```deepcopy``` du module standard python ```copy```\n",
    "\n",
    "1. Dans un boucle for, redéfinir les étiquette $ytmp$ et apprendre des classifieurs binaires\n",
    "\n",
    "1. Dans ```score``` faire appel aux méthodes ```score``` des classifieurs binaires et stocker les résultats\n",
    "\n",
    "1. Dans ```predict``` renvoyer l'argmax des scores.<BR>\n",
    "**Note:** en faisant cette opération, on fait l'hypothèse que les étiquettes sont définies sur $[0,nCl]$. Pour lever cette hypothèse, il faudrait stocker les classes et convertir le résultat de argmax.\n",
    "\n",
    "1. La fonction ```accuracy``` de la classe mère doit être compatible avec les définitions précédentes... Par exemple:\n",
    "```\n",
    "def accuracy(self, desc_set, label_set):\n",
    "        yhat = np.array([self.predict(x) for x in desc_set])\n",
    "        return np.where(label_set == yhat, 1., 0.).mean()\n",
    "```\n",
    "\n",
    "    \n",
    "</div>    "
   ]
  },
  {
   "cell_type": "code",
   "execution_count": 26,
   "metadata": {},
   "outputs": [],
   "source": [
    "import copy \n",
    "\n",
    "class ClassifierMultiOAA(classif.Classifier):\n",
    "    def __init__(self,classifier_bin,nb_classes):\n",
    "        self.liste_classi = []\n",
    "        self.classif_bin = classifier_bin\n",
    "        self.nb_classes = nb_classes\n",
    "        \n",
    "    def train(self,data_set,label_set):\n",
    "        for i in range(self.nb_classes):\n",
    "            self.liste_classi.append(copy.deepcopy(self.classif_bin))\n",
    "        for i in range(self.nb_classes):\n",
    "            #on se ramène à un problème de classification binaire\n",
    "            #classe 1 ( c'est la classe courante (la ième))\n",
    "            w1 = np.where(label_set==i)[0]\n",
    "            tmp_label1 = label_set[w1]\n",
    "            tmp_label1[tmp_label1==i]=1\n",
    "            tmp_data1 = data_set[w1]\n",
    "            #classe -1 (le reste des classes)\n",
    "            w_1 = np.where(label_set!=i)[0]\n",
    "            tmp_label_1 = label_set[w_1]\n",
    "            tmp_label_1[tmp_label_1!=i]=-1\n",
    "            tmp_data_1 = data_set[w_1]\n",
    "            self.liste_classi[i].train(np.concatenate((tmp_data_1,tmp_data1)),np.concatenate((tmp_label_1,tmp_label1)))   \n",
    "            \n",
    "    def score(self,x):\n",
    "        score=[]\n",
    "        for c in self.liste_classi:\n",
    "            score.append(c.score(x))\n",
    "        return score\n",
    "    \n",
    "    def predict(self,x):\n",
    "        return np.argmax(self.score(x)) \n",
    "\n",
    "    def accuracy(self, desc_set, label_set):\n",
    "        yhat = np.array([self.predict(x) for x in desc_set])\n",
    "        return np.where(label_set == yhat, 1., 0.).mean()"
   ]
  },
  {
   "cell_type": "code",
   "execution_count": 27,
   "metadata": {},
   "outputs": [],
   "source": [
    "# opération assez couteuse sur toutes les données !\n",
    "# A faire dans une boite séparée\n",
    "\n",
    "index = np.random.permutation(len(Yu))\n",
    "Xm = Xu[index]\n",
    "Ym = Yu[index]\n"
   ]
  },
  {
   "cell_type": "code",
   "execution_count": 28,
   "metadata": {},
   "outputs": [
    {
     "name": "stdout",
     "output_type": "stream",
     "text": [
      "Itération  0  : taille base appretissage =  5607  taille base de test =  622\n",
      "Itération  1  : taille base appretissage =  5607  taille base de test =  622\n",
      "Itération  2  : taille base appretissage =  5607  taille base de test =  622\n",
      "Itération  3  : taille base appretissage =  5607  taille base de test =  622\n",
      "Itération  4  : taille base appretissage =  5607  taille base de test =  622\n",
      "Itération  5  : taille base appretissage =  5607  taille base de test =  622\n",
      "Itération  6  : taille base appretissage =  5607  taille base de test =  622\n",
      "Itération  7  : taille base appretissage =  5607  taille base de test =  622\n",
      "Itération  8  : taille base appretissage =  5607  taille base de test =  622\n",
      "Itération  9  : taille base appretissage =  5607  taille base de test =  622\n",
      "\n",
      "Perf A (apprentissage):  (0.9164615658997681, 0.00012741213792067172)\n",
      "\n",
      "Perf T (test) :  (0.8971061093247586, 0.00033808583451370425)\n"
     ]
    }
   ],
   "source": [
    "# validation croisée en multi-classes\n",
    "\n",
    "niter = 10   # nombre d'itérations\n",
    "perf_A = []  # accuracies sur la base d'apprentissage\n",
    "perf_T= []  # accuracies sur la base de test\n",
    "\n",
    "\n",
    "for i in range(niter):   \n",
    "    perceptron = classif.ClassifierPerceptron(256,1e-5)\n",
    "    oaa = ClassifierMultiOAA(perceptron,10)\n",
    "    Xapp,Yapp,X_test,Y_test=crossval(Xm,Ym,niter,i)\n",
    "    print(\"Itération \",i,\" : taille base appretissage = \",len(Xapp),\" taille base de test = \",len(X_test))\n",
    "    oaa.train(Xapp, Yapp)\n",
    "    perf_T.append(oaa.accuracy(X_test, Y_test))\n",
    "    perf_A.append(oaa.accuracy(Xapp, Yapp))\n",
    "    \n",
    "    \n",
    "print(\"\\nPerf A (apprentissage): \", analyse_perfs(perf_A))\n",
    "print(\"\\nPerf T (test) : \", analyse_perfs(perf_T))"
   ]
  },
  {
   "cell_type": "markdown",
   "metadata": {},
   "source": [
    "## Toujours plus loin..."
   ]
  },
  {
   "cell_type": "markdown",
   "metadata": {},
   "source": [
    "<font color=\"RED\" size=\"+1\">**[Q]**</font> Comparer les performances en train/test, par une validation croisée en 10 groupes, des classifieurs que vous avez déjà implémentés sur le jeu de données USPS."
   ]
  },
  {
   "cell_type": "markdown",
   "metadata": {},
   "source": [
    "### Données USPS:"
   ]
  },
  {
   "cell_type": "code",
   "execution_count": 29,
   "metadata": {},
   "outputs": [],
   "source": [
    "data = pkl.load(open('ressources/usps.pkl', 'rb'))\n",
    "Xu = np.array(data['X_train'], dtype=float) # conversion de type pour une meilleure compatibilité\n",
    "Yu = np.array(data['Y_train'], dtype=float)"
   ]
  },
  {
   "cell_type": "markdown",
   "metadata": {},
   "source": [
    "#### Classifieur KNN:"
   ]
  },
  {
   "cell_type": "code",
   "execution_count": null,
   "metadata": {},
   "outputs": [],
   "source": [
    "niter = 10   # nombre d'itérations\n",
    "perf_A = []  # accuracies sur la base d'apprentissage\n",
    "perf_T= []  # accuracies sur la base de test\n",
    "\n",
    "\n",
    "for i in range(niter):  \n",
    "    knn = classif.ClassifierKNN(256,1)\n",
    "    oaa = ClassifierMultiOAA(knn,10)\n",
    "    Xapp,Yapp,X_test,Y_test=crossval(Xu,Yu,niter,i)\n",
    "    oaa.train(Xapp, Yapp)\n",
    "    perf_T.append(oaa.accuracy(X_test, Y_test))\n",
    "    perf_A.append(oaa.accuracy(Xapp, Yapp))\n",
    "    \n",
    "print(\"\\nPerf A (apprentissage) pour le knn: \", analyse_perfs(perf_A))\n",
    "print(\"\\nPerf T (test) pour le knn : \", analyse_perfs(perf_T))"
   ]
  },
  {
   "cell_type": "markdown",
   "metadata": {},
   "source": [
    "#### Classifieur Perceptron:"
   ]
  },
  {
   "cell_type": "code",
   "execution_count": 31,
   "metadata": {},
   "outputs": [
    {
     "name": "stdout",
     "output_type": "stream",
     "text": [
      "\n",
      "Perf A (apprentissage) pour le Perceptron:  (0.912163367219547, 0.0001150072638761539)\n",
      "\n",
      "Perf T (test) pour le Perceptron :  (0.8940514469453376, 9.535157825084521e-05)\n"
     ]
    }
   ],
   "source": [
    "niter = 10   # nombre d'itérations\n",
    "perf_A = []  # accuracies sur la base d'apprentissage\n",
    "perf_T= []  # accuracies sur la base de test\n",
    "\n",
    "for i in range(niter):   \n",
    "    perceptron = classif.ClassifierPerceptron(256,1e-5)\n",
    "    oaa = ClassifierMultiOAA(perceptron,10)\n",
    "    Xapp,Yapp,X_test,Y_test=crossval(Xu,Yu,niter,i)\n",
    "    oaa.train(Xapp, Yapp)\n",
    "    perf_T.append(oaa.accuracy(X_test, Y_test))\n",
    "    perf_A.append(oaa.accuracy(Xapp, Yapp))\n",
    "    \n",
    "    \n",
    "print(\"\\nPerf A (apprentissage) pour le Perceptron: \", analyse_perfs(perf_A))\n",
    "print(\"\\nPerf T (test) pour le Perceptron : \", analyse_perfs(perf_T))"
   ]
  }
 ],
 "metadata": {
  "kernelspec": {
   "display_name": "Python 3",
   "language": "python",
   "name": "python3"
  },
  "language_info": {
   "codemirror_mode": {
    "name": "ipython",
    "version": 3
   },
   "file_extension": ".py",
   "mimetype": "text/x-python",
   "name": "python",
   "nbconvert_exporter": "python",
   "pygments_lexer": "ipython3",
   "version": "3.7.3"
  }
 },
 "nbformat": 4,
 "nbformat_minor": 4
}
