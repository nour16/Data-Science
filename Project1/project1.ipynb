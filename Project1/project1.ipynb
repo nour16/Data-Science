{
 "cells": [
  {
   "cell_type": "markdown",
   "metadata": {},
   "source": [
    "IA & Data science (LU3IN0226) -- 2021-2022\n",
    "--------\n",
    "*&copy; Equipe pédagogique: Vincent Guigue, Christophe Marsala, Olivier Schwander.*"
   ]
  },
  {
   "cell_type": "markdown",
   "metadata": {},
   "source": [
    "<font size=\"+1\" color=\"RED\"><b>[Q]</b></font> <font size=\"+1\"><b>Indiquer dans la boîte ci-dessous vos noms et prénoms :</b></font>"
   ]
  },
  {
   "cell_type": "markdown",
   "metadata": {},
   "source": [
    "KLICH NourElHouda && BESSAD Melina"
   ]
  },
  {
   "cell_type": "markdown",
   "metadata": {},
   "source": [
    "Ce projet peut être fait (c'est même recommandé) en binôme. Le nom de chaque membre du binôme doit être indiqué, et un seul rendu sur un des deux comptes Moodle doit être fait.\n",
    "\n",
    "Les groupes de plus de 2 personnes ne sont pas autorisés."
   ]
  },
  {
   "cell_type": "markdown",
   "metadata": {},
   "source": [
    "<font color=\"RED\" size=\"+1\"><b>[Q]</b></font> **Renommer ce fichier ipython**\n",
    "\n",
    "Tout en haut de cette page, cliquer sur <tt>projet-1</tt> et rajouter à la suite de <tt>projet-1</tt> les noms des membres du binômes séparés par un tiret.\n",
    "\n",
    "<font color=\"RED\" size=\"+1\">IMPORTANT: soumission de votre fichier final</font>\n",
    "\n",
    "**Nom à donner au notebook** : *projet-1-Nom1_Nom2.ipynb* \n",
    "- *Nom1* et *Nom2* : noms des membres du binôme\n",
    "\n",
    "**Le compte-rendu doit être rendu sur la page Moodle.**"
   ]
  },
  {
   "cell_type": "markdown",
   "metadata": {},
   "source": [
    "# Projet 1 - mars 2022\n",
    "\n",
    "\n",
    "<font size=\"+1\" color=\"RED\"><b>Date de rendu : vendredi 25 mars, 18h au plus tard</b></font>\n",
    "<br />\n",
    "\n",
    "\n",
    "Vous devez compléter ce notebook en rajoutant vos expérimentations avec vos algorithmes d'apprentissage sur:\n",
    "- les données Bases_IADS : cela correspond à un problème de classification binaire\n",
    "- les données Bases_IADS_multiclasses : cela correspond à un problème de classification multiclasses\n",
    "\n",
    "Très important : les fichiers de données doivent être placés de façon à respecter la structure de fichiers suivantes:\n",
    "\n",
    "          -- ce_notebook.ipynb\n",
    "          -- Bases_IADS/ \n",
    "              -- README.txt\n",
    "              -- train.csv\n",
    "              -- test.csv\n",
    "              -- eval.csv\n",
    "              -- names.csv\n",
    "          -- Bases_IADS_multiclasses/\n",
    "              -- README.txt\n",
    "              -- train_multi.csv\n",
    "              -- test_multi.csv\n",
    "              -- eval_multi.csv\n",
    "              -- names_multi.csv\n",
    "\n",
    "Dans le notebook, le chargement des fichiers de données considèrera donc cette arborescence.\n",
    "\n",
    "\n",
    "Les fichiers de chaque répertoire correspondent à:\n",
    "- fichier README.txt : donne des explications sur le contenu du répertoire\n",
    "- fichier train*.csv : base d'apprentissage à utiliser pour construire le classfieur\n",
    "- fichier test*.csv : base de test pour évaluer vous même le classifieur construit. Les exemples de ce fichier NE DOIVENT PAS être utilisés pour l'apprentissage du classifieur.\n",
    "- fichier eval*.csv : fichier d'évaluation du classifieur (voir ci-dessous).\n",
    "\n",
    "## Travail à faire\n",
    "\n",
    "Pour chaque ensemble de données:\n",
    "- les 2 algorithmes d'apprentissage knn et perceptron doivent être expérimentés et comparés (ATTENTION: on ne veut que des algorithmes que vous avez implémentés vous-même dans cette UE).\n",
    "- des résultats d'expérimentations pourront être : comparaison des taux de bonne classification apprentissage / test (avec validation croisée), visualisation, etc.\n",
    "- de plus, un fichier `eval.csv` est fourni. Ce fichier contient des descriptions associées à un \"faux\" label. Dans votre compte-rendu, vous devez fournir un fichier CSV qui donne, pour chaque exemple du fichier `eval.csv`la classe trouvée par votre meilleur classifieur. Ainsi, le fichier CSV à rendre doit comporter 2 colonnes et autant de lignes que d'exemples (une ligne par exemple du fichier eval):<br>\n",
    "            IDENTIFIANT;CLASSE_TROUVEE_POUR_CET_EXEMPLE\n",
    "            ...\n",
    "Le résultat de classification vous sera donné en retour (nous connaissons la vraie classe des exemples de ce fichier...).\n",
    "\n",
    "Vos **expérimentations doivent être expliquées** (utilisez des boîtes Markdown pour saisir vos explications):\n",
    "- une argumentation du type *\"pourquoi vous avez fait cette expérimentation\"* doit être fournie;\n",
    "- une analyse succincte du résultat fourni doit être aussi donnée.\n",
    "\n",
    "\n",
    "Par exemple (indicatif): choix de $k$ pour le knn:\n",
    "- argumentation : pour décider quelle peut être la valeur de $k$ optimale, on décide de tester plusieurs valeurs différentes et de comparer les taux de bonne classification sur la base de test obtenus.\n",
    "- analyse du résultat: on remarque que la valeur $k$ suivante fournie le meilleur résultat.\n",
    "\n",
    "\n",
    "\n",
    "## Travail à rendre\n",
    "Ce qui doit être rendu : un fichier archive (`.tar`, `.tgz`, ou `.zip` uniquement)\n",
    "- ce notebook, dans lequel vous avez reporté toutes les fonctions que vous utilisez : ce notebook doit pouvoir être exécuté sans autre apport (pensez à vous en assurer avant de le rendre). Les fichiers de données ne doivent pas être inclus dans votre archive !\n",
    "- un fichier CSV dont le nom est de la forme: *projet-1-Nom1_Nom2.csv* (sur le modèle du nom du notebook) qui donne la classe de chaque exemple du fichier `eval.csv` trouvée par votre classifieur.\n",
    "\n",
    "\n",
    "**Remarque**: en considérant que les algorithmes knn et perceptron ont été réalisés lors des séances de TME 1 à 6, le travail demandé pour ce projet correspond à, au plus, une séance complète de TME."
   ]
  },
  {
   "cell_type": "code",
   "execution_count": 47,
   "metadata": {},
   "outputs": [
    {
     "name": "stdout",
     "output_type": "stream",
     "text": [
      "The autoreload extension is already loaded. To reload it, use:\n",
      "  %reload_ext autoreload\n"
     ]
    }
   ],
   "source": [
    "import numpy as np\n",
    "import pandas as pd\n",
    "from datetime import datetime as dt\n",
    "import matplotlib.pyplot as plt\n",
    "%matplotlib inline  \n",
    "import random\n",
    "import math\n",
    "import pickle as pkl\n",
    "import csv\n",
    "# Les instructions suivantes sont TRES utile pour recharger automatiquement \n",
    "# le code modifié dans les librairies externes\n",
    "%load_ext autoreload\n",
    "%autoreload 2"
   ]
  },
  {
   "cell_type": "markdown",
   "metadata": {},
   "source": [
    "## Classifieur \"Classifier\""
   ]
  },
  {
   "cell_type": "code",
   "execution_count": 48,
   "metadata": {},
   "outputs": [],
   "source": [
    "class Classifier:\n",
    "    \"\"\" Classe (abstraite) pour représenter un classifieur\n",
    "        Attention: cette classe est ne doit pas être instanciée.\n",
    "    \"\"\"\n",
    "    \n",
    "    def __init__(self, input_dimension):\n",
    "        \"\"\" Constructeur de Classifier\n",
    "            Argument:\n",
    "                - intput_dimension (int) : dimension de la description des exemples\n",
    "            Hypothèse : input_dimension > 0\n",
    "        \"\"\"\n",
    "        self.input_dimension = input_dimension\n",
    "        \n",
    "    def train(self, desc_set, label_set):\n",
    "        \"\"\" Permet d'entrainer le modele sur l'ensemble donné\n",
    "            desc_set: ndarray avec des descriptions\n",
    "            label_set: ndarray avec les labels correspondants\n",
    "            Hypothèse: desc_set et label_set ont le même nombre de lignes\n",
    "        \"\"\"        \n",
    "        raise NotImplementedError(\"Please Implement this method\")\n",
    "    \n",
    "    def score(self,x):\n",
    "        \"\"\" rend le score de prédiction sur x (valeur réelle)\n",
    "            x: une description\n",
    "        \"\"\"\n",
    "        raise NotImplementedError(\"Please Implement this method\")\n",
    "    \n",
    "    def predict(self, x):\n",
    "        \"\"\" rend la prediction sur x (soit -1 ou soit +1)\n",
    "            x: une description\n",
    "        \"\"\"\n",
    "        raise NotImplementedError(\"Please Implement this method\")\n",
    "\n",
    "    def accuracy(self, desc_set, label_set):\n",
    "        \"\"\" Permet de calculer la qualité du système sur un dataset donné\n",
    "            desc_set: ndarray avec des descriptions\n",
    "            label_set: ndarray avec les labels correspondants\n",
    "            Hypothèse: desc_set et label_set ont le même nombre de lignes\n",
    "        \"\"\"\n",
    "        nb_bien_classe=0\n",
    "        for i in range(len(desc_set)):\n",
    "            if self.predict(desc_set[i]) == label_set[i]:\n",
    "                nb_bien_classe = nb_bien_classe + 1\n",
    "        return nb_bien_classe/len(desc_set)"
   ]
  },
  {
   "cell_type": "markdown",
   "metadata": {},
   "source": [
    "## Fronctions de Validation croisée"
   ]
  },
  {
   "cell_type": "code",
   "execution_count": 49,
   "metadata": {},
   "outputs": [],
   "source": [
    "def crossval(X, Y, n_iterations, iteration):\n",
    "    \"\"\"extrait 02 sous data sets un d'apprentissage et l'autre de test\"\"\"\n",
    "    i_deb_test = iteration*(len(X)//n_iterations)\n",
    "    i_fin_test = (iteration+1)*(len(X)//n_iterations)-1\n",
    "    Ytest = Y[i_deb_test:i_fin_test+1]\n",
    "    Xtest = X[i_deb_test:i_fin_test+1]\n",
    "    Xapp = np.concatenate((X[0:i_deb_test],X[i_fin_test+1:len(X)]))\n",
    "    Yapp = np.concatenate((Y[0:i_deb_test],Y[i_fin_test+1:len(X)]))\n",
    "    return Xapp, Yapp, Xtest, Ytest\n",
    "\n",
    "def crossval_strat(X, Y, n_iterations, iteration):\n",
    "    #classe 1\n",
    "    w1 = np.where(Y==1)[0]\n",
    "    Y1 = Y[w1]\n",
    "    X1 = X[w1]\n",
    "    #classe -1\n",
    "    w_1 = np.where(Y==-1)[0]\n",
    "    Y_1 = Y[w_1]\n",
    "    X_1 = X[w_1]\n",
    "    Xapp1, Yapp1, Xtest1, Ytest1 = crossval(X1,Y1,n_iterations,iteration)\n",
    "    Xapp2, Yapp2, Xtest2, Ytest2 = crossval(X_1,Y_1,n_iterations,iteration)\n",
    "    return np.concatenate((Xapp2,Xapp1)), np.concatenate((Yapp2,Yapp1)),np.concatenate((Xtest2,Xtest1)),np.concatenate((Ytest2,Ytest1))\n",
    "\n"
   ]
  },
  {
   "cell_type": "markdown",
   "metadata": {},
   "source": [
    "## -Fonction d'analyse de performances:"
   ]
  },
  {
   "cell_type": "code",
   "execution_count": 50,
   "metadata": {},
   "outputs": [],
   "source": [
    "def analyse_perfs(liste_reel):\n",
    "    if (len(liste_reel)==0):\n",
    "        return (0,0)\n",
    "    return (np.mean(liste_reel),np.var(liste_reel))    "
   ]
  },
  {
   "cell_type": "markdown",
   "metadata": {},
   "source": [
    " ## - Fonctions visualisation :"
   ]
  },
  {
   "cell_type": "code",
   "execution_count": 51,
   "metadata": {},
   "outputs": [],
   "source": [
    "def reduction_2d(X,Y):\n",
    "    Xu = np.array(X, dtype=float) # conversion de type pour une meilleure compatibilité\n",
    "    Yu = np.array(Y, dtype=float)\n",
    "    # 1) calcul des vecteurs propres\n",
    "    lam_u, V_u = np.linalg.eig(Xu.T @ Xu)\n",
    "    # 2) affichage (print)\n",
    "    # 3) tri et sélection des 2 vecteurs associés aux 2 plus grandes valeurs propres \n",
    "    idx_max1 = np.argsort(lam_u)[len(lam_u)-1]\n",
    "    idx_max2 = np.argsort(lam_u)[len(lam_u)-2]\n",
    "    V_p1 = V_u[:,idx_max1]\n",
    "    V_p2 = V_u[:,idx_max2]\n",
    "    # 4) affichage (plot) avec un code couleur pour les classes\n",
    "    v1_etoile = Xu@V_p1#projection sur le vecteur propre 1\n",
    "    v2_etoile = Xu@V_p2\n",
    "    return (v1_etoile,v2_etoile,Yu)\n",
    "    \n",
    "def plot2DSet(desc,labels):    \n",
    "    \"\"\" ndarray * ndarray -> affichage\n",
    "        la fonction doit utiliser la couleur 'red' pour la classe -1 et 'blue' pour la +1\n",
    "    \"\"\"\n",
    "   \n",
    "    # Extraction des exemples de classe -1:\n",
    "    data_negatifs = desc[labels == -1]\n",
    "    # Extraction des exemples de classe +1:\n",
    "    data_positifs = desc[labels == +1]\n",
    "    # Affichage de l'ensemble des exemples :\n",
    "    plt.scatter(data_negatifs[:,0],data_negatifs[:,1],marker='o', color=\"red\") # 'o' rouge pour la classe -1\n",
    "    plt.scatter(data_positifs[:,0],data_positifs[:,1],marker='x', color=\"blue\") # 'x' bleu pour la classe +1\n",
    "    \n",
    "def plot_frontiere(desc_set, label_set, classifier, step=30):\n",
    "    \"\"\" desc_set * label_set * Classifier * int -> NoneType\n",
    "        Remarque: le 4e argument est optionnel et donne la \"résolution\" du tracé: plus il est important\n",
    "        et plus le tracé de la frontière sera précis.        \n",
    "        Cette fonction affiche la frontière de décision associée au classifieur\n",
    "    \"\"\"\n",
    "    mmax=desc_set.max(0)\n",
    "    mmin=desc_set.min(0)\n",
    "    x1grid,x2grid=np.meshgrid(np.linspace(mmin[0],mmax[0],step),np.linspace(mmin[1],mmax[1],step))\n",
    "    grid=np.hstack((x1grid.reshape(x1grid.size,1),x2grid.reshape(x2grid.size,1)))\n",
    "    \n",
    "    # calcul de la prediction pour chaque point de la grille\n",
    "    res=np.array([classifier.predict(grid[i,:]) for i in range(len(grid)) ])\n",
    "    res=res.reshape(x1grid.shape)\n",
    "    # tracer des frontieres\n",
    "    # colors[0] est la couleur des -1 et colors[1] est la couleur des +1\n",
    "    plt.contourf(x1grid,x2grid,res,colors=[\"darksalmon\",\"skyblue\"],levels=[-1000,0,1000])    "
   ]
  },
  {
   "cell_type": "markdown",
   "metadata": {},
   "source": [
    "# 1-les données Bases_IADS : classification binaire"
   ]
  },
  {
   "cell_type": "code",
   "execution_count": 52,
   "metadata": {},
   "outputs": [],
   "source": [
    "###Extraction des données train\n",
    "data_binaire_tr = pd.read_csv(\"Bases_IADS/train.csv\",sep=';',header=None)\n",
    "data_bin_array_tr = np.array(data_binaire_tr)\n",
    "l,c = data_bin_array_tr.shape\n",
    "X_binaire_train = data_bin_array_tr[:,1:c-1]\n",
    "Y_binaire_train = data_bin_array_tr[:,-1]\n",
    "\n",
    "###Extraction des données test\n",
    "data_binaire_test = pd.read_csv(\"Bases_IADS/test.csv\",sep=';',header=None)\n",
    "data_bin_array_test = np.array(data_binaire_test)\n",
    "l,c = data_bin_array_test.shape\n",
    "X_binaire_test = data_bin_array_test[:,1:c-1]\n",
    "Y_binaire_test = data_bin_array_test[:,-1]"
   ]
  },
  {
   "cell_type": "markdown",
   "metadata": {},
   "source": [
    "### - Visualisation des données"
   ]
  },
  {
   "cell_type": "code",
   "execution_count": 55,
   "metadata": {},
   "outputs": [
    {
     "data": {
      "image/png": "[encoded data removed]",
      "text/plain": [
       "<Figure size 432x288 with 1 Axes>"
      ]
     },
     "metadata": {
      "needs_background": "light"
     },
     "output_type": "display_data"
    }
   ],
   "source": [
    "(v1_etoile,v2_etoile,Yu) = reduction_2d(X_binaire_train,Y_binaire_train)\n",
    "X_2d = np.array((v1_etoile,v2_etoile)).T\n",
    "Y_2d = Yu\n",
    "plot2DSet(X_2d,Y_2d)\n"
   ]
  },
  {
   "cell_type": "markdown",
   "metadata": {},
   "source": [
    "## 1.1- Apprentissage avec le classifieur Knn : "
   ]
  },
  {
   "cell_type": "markdown",
   "metadata": {},
   "source": [
    "### - Classifieur KNN :\n"
   ]
  },
  {
   "cell_type": "code",
   "execution_count": 54,
   "metadata": {},
   "outputs": [],
   "source": [
    "\n",
    "class ClassifierKNN(Classifier):\n",
    "    \"\"\" Classe pour représenter un classifieur par K plus proches voisins.\n",
    "        Cette classe hérite de la classe Classifier\n",
    "    \"\"\"\n",
    "    \n",
    "    def __init__(self, input_dimension, k):\n",
    "        \"\"\" Constructeur de Classifier\n",
    "            Argument:\n",
    "                - intput_dimension (int) : dimension d'entrée des exemples\n",
    "                - k (int) : nombre de voisins à considérer\n",
    "            Hypothèse : input_dimension > 0\n",
    "        \"\"\"\n",
    "        super().__init__(input_dimension)\n",
    "        self.k=k\n",
    "        \n",
    "    def score(self,x):\n",
    "        \"\"\" rend la proportion de +1 parmi les k ppv de x (valeur réelle)\n",
    "            x: une description : un ndarray\n",
    "        \"\"\"\n",
    "        tab_dist=[]\n",
    "        for i in range(len(self.data_desc)):\n",
    "            tab_dist.append(np.dot(x-self.data_desc[i],x-self.data_desc[i]))\n",
    "        tab_idx_tri = np.argsort(tab_dist)#les indices ordonnés des distances  \n",
    "        nb_pos = 0\n",
    "        for i in tab_idx_tri[0:self.k]: \n",
    "            if (self.data_label[i]== 1):\n",
    "                nb_pos = nb_pos + 1\n",
    "        return 2*((nb_pos/self.k)-0.5)\n",
    "        \n",
    "    def predict(self, x):\n",
    "        \"\"\" rend la prediction sur x (-1 ou +1)\n",
    "            x: une description : un ndarray\n",
    "        \"\"\"\n",
    "        score = self.score(x)\n",
    "        if score > 0:\n",
    "            return 1\n",
    "        return -1\n",
    "    def train(self, desc_set, label_set):\n",
    "        \"\"\" Permet d'entrainer le modele sur l'ensemble donné\n",
    "            desc_set: ndarray avec des descriptions\n",
    "            label_set: ndarray avec les labels correspondants\n",
    "            Hypothèse: desc_set et label_set ont le même nombre de lignes\n",
    "        \"\"\"        \n",
    "        self.data_desc = desc_set\n",
    "        self.data_label = label_set"
   ]
  },
  {
   "cell_type": "markdown",
   "metadata": {},
   "source": [
    "### - Données sans validation croisée :\n"
   ]
  },
  {
   "cell_type": "markdown",
   "metadata": {},
   "source": [
    "\n",
    "\n",
    "#### Choix du k le plus optimal  :"
   ]
  },
  {
   "cell_type": "code",
   "execution_count": 64,
   "metadata": {},
   "outputs": [
    {
     "name": "stdout",
     "output_type": "stream",
     "text": [
      "---------------k =  1 ------------------------\n",
      "Accuracy (test) pour  1 : 0.935\n",
      "---------------k =  3 ------------------------\n",
      "Accuracy (test) pour  3 : 0.943\n",
      "---------------k =  5 ------------------------\n",
      "Accuracy (test) pour  5 : 0.946\n",
      "---------------k =  7 ------------------------\n",
      "Accuracy (test) pour  7 : 0.945\n",
      "---------------k =  9 ------------------------\n",
      "Accuracy (test) pour  9 : 0.944\n",
      "---------------k =  11 ------------------------\n",
      "Accuracy (test) pour  11 : 0.942\n",
      "---------------k =  13 ------------------------\n",
      "Accuracy (test) pour  13 : 0.943\n",
      "---------------k =  15 ------------------------\n",
      "Accuracy (test) pour  15 : 0.942\n",
      "---------------k =  17 ------------------------\n",
      "Accuracy (test) pour  17 : 0.938\n",
      "---------------k =  19 ------------------------\n",
      "Accuracy (test) pour  19 : 0.932\n",
      "---------------k =  21 ------------------------\n",
      "Accuracy (test) pour  21 : 0.928\n",
      "---------------k =  23 ------------------------\n",
      "Accuracy (test) pour  23 : 0.931\n",
      "\n",
      "le meilleur k est donc : 5\n"
     ]
    },
    {
     "data": {
      "image/png": "[encoded data removed]",
      "text/plain": [
       "<Figure size 432x288 with 1 Axes>"
      ]
     },
     "metadata": {
      "needs_background": "light"
     },
     "output_type": "display_data"
    }
   ],
   "source": [
    "# on stocke les accuracies dans une liste :\n",
    "accuracies_train = []\n",
    "accuracies_test = []\n",
    "\n",
    "# seuil max des valeurs de k à regarder:\n",
    "seuil_k = len(X_binaire_train) // 40\n",
    "\n",
    "# toutes les valeurs de k à regarder:\n",
    "valeurs_k = [k for k in range(1,seuil_k,2)]\n",
    "for k in valeurs_k:\n",
    "    # Création d'un knn avec k et 2 dimensions pour les données\n",
    "    classifierKNN = ClassifierKNN(c-2,k)\n",
    "    # Entraînement du classifier:\n",
    "    classifierKNN.train(X_binaire_train,Y_binaire_train)\n",
    "    # acccuracies pour test\n",
    "    tmp = classifierKNN.accuracy(X_binaire_test,Y_binaire_test)\n",
    "    print(\"---------------k = \",k,\"------------------------\")\n",
    "    print(\"Accuracy (test) pour \",k,\":\",tmp)\n",
    "    accuracies_test.append(tmp)\n",
    "plt.plot(valeurs_k,accuracies_test)\n",
    "plt.xlabel(\"k\")\n",
    "plt.ylabel(\"accuracy\")\n",
    "k_best=valeurs_k[np.argmax(accuracies_test)]\n",
    "print(\"\\nle meilleur k est donc :\",k_best)"
   ]
  },
  {
   "cell_type": "markdown",
   "metadata": {},
   "source": [
    "* On remarque donc qu'après des tests avec plusieurs valeurs de k que celui qui nous donne la meilleure performance est 5"
   ]
  },
  {
   "cell_type": "code",
   "execution_count": 57,
   "metadata": {},
   "outputs": [
    {
     "name": "stdout",
     "output_type": "stream",
     "text": [
      "Accuracy (train) pour  0.965\n",
      "Accuracy (test) pour  0.946\n"
     ]
    }
   ],
   "source": [
    "classifierKNN = ClassifierKNN(c-2,k_best)\n",
    "classifierKNN.train(X_binaire_train,Y_binaire_train)\n",
    "print(\"Accuracy (train) pour \",classifierKNN.accuracy(X_binaire_train,Y_binaire_train))\n",
    "print(\"Accuracy (test) pour \",classifierKNN.accuracy(X_binaire_test,Y_binaire_test))"
   ]
  },
  {
   "cell_type": "markdown",
   "metadata": {},
   "source": [
    "### -Données avec validation croisée:"
   ]
  },
  {
   "cell_type": "code",
   "execution_count": 58,
   "metadata": {},
   "outputs": [],
   "source": [
    "###EXtraction des données binaires de validation croisée\n",
    "np.random.seed(42)   # on prend 42 comme graine\n",
    "\n",
    "index = np.random.permutation(len(X_binaire_train)) # mélange des index\n",
    "XbinMelange = X_binaire_train[index]\n",
    "YbinMelange = Y_binaire_train[index]\n"
   ]
  },
  {
   "cell_type": "code",
   "execution_count": 59,
   "metadata": {},
   "outputs": [
    {
     "name": "stdout",
     "output_type": "stream",
     "text": [
      "-----------------------Itération  1 -------------------------\n",
      "taille base appretissage =  900  taille base de test =  100\n",
      "accuracy test =  0.96\n",
      "-----------------------Itération  2 -------------------------\n",
      "taille base appretissage =  900  taille base de test =  100\n",
      "accuracy test =  0.97\n",
      "-----------------------Itération  3 -------------------------\n",
      "taille base appretissage =  900  taille base de test =  100\n",
      "accuracy test =  0.93\n",
      "-----------------------Itération  4 -------------------------\n",
      "taille base appretissage =  900  taille base de test =  100\n",
      "accuracy test =  0.93\n",
      "-----------------------Itération  5 -------------------------\n",
      "taille base appretissage =  900  taille base de test =  100\n",
      "accuracy test =  0.95\n",
      "-----------------------Itération  6 -------------------------\n",
      "taille base appretissage =  900  taille base de test =  100\n",
      "accuracy test =  0.96\n",
      "-----------------------Itération  7 -------------------------\n",
      "taille base appretissage =  900  taille base de test =  100\n",
      "accuracy test =  0.96\n",
      "-----------------------Itération  8 -------------------------\n",
      "taille base appretissage =  900  taille base de test =  100\n",
      "accuracy test =  0.97\n",
      "-----------------------Itération  9 -------------------------\n",
      "taille base appretissage =  900  taille base de test =  100\n",
      "accuracy test =  0.94\n"
     ]
    }
   ],
   "source": [
    "niter = 10\n",
    "liste_classif = []\n",
    "acc_vc_knn=[]\n",
    "for i in range(1,niter):\n",
    "    Xapp,Yapp,X_test,Y_test = crossval_strat(XbinMelange, YbinMelange,niter,i)\n",
    "    knn1 = ClassifierKNN(c-2,k_best)\n",
    "    print(\"-----------------------Itération \",i,\"-------------------------\")\n",
    "    print(\"taille base appretissage = \",len(Xapp),\" taille base de test = \",len(X_test))\n",
    "    knn1.train(Xapp, Yapp)\n",
    "    acc=knn1.accuracy(X_test, Y_test)\n",
    "    print(\"accuracy test = \",acc)\n",
    "    acc_vc_knn.append(acc)\n",
    "    "
   ]
  },
  {
   "cell_type": "markdown",
   "metadata": {},
   "source": [
    "## 1.2- Apprentissage avec le classifieur Perceptron: "
   ]
  },
  {
   "cell_type": "markdown",
   "metadata": {},
   "source": [
    "###  Classifieur Perceptron"
   ]
  },
  {
   "cell_type": "code",
   "execution_count": 60,
   "metadata": {},
   "outputs": [],
   "source": [
    "class ClassifierPerceptron(Classifier):\n",
    "    \"\"\" Perceptron de Rosenblatt\n",
    "    \"\"\"\n",
    "    learning_rate = 0\n",
    "    w=[]\n",
    "    def __init__(self, input_dimension, learning_rate, init=0):\n",
    "        \"\"\" Constructeur de Classifier\n",
    "            Argument:\n",
    "                - input_dimension (int) : dimension de la description des exemples (>0)\n",
    "                - learning_rate : epsilon\n",
    "                - init est le mode d'initialisation de w: \n",
    "                    - si 0 (par défaut): initialisation à 0 de w,\n",
    "                    - si 1 : initialisation par tirage aléatoire de valeurs petites\n",
    "        \"\"\"\n",
    "        self.input_dimension = input_dimension\n",
    "        self.learning_rate = learning_rate\n",
    "        if init==0:\n",
    "            self.w =np.zeros(input_dimension)\n",
    "        else:\n",
    "            v = np.array([random.random() for i in range(input_dimension)]) #valeur entre [0,1[\n",
    "            self.w = (2*v-1)*learning_rate\n",
    "        \n",
    "    def train_step(self, desc_set, label_set):\n",
    "        \"\"\" Réalise une unique itération sur tous les exemples du dataset\n",
    "            donné en prenant les exemples aléatoirement.\n",
    "            Arguments:\n",
    "                - desc_set: ndarray avec des descriptions\n",
    "                - label_set: ndarray avec les labels correspondants\n",
    "        \"\"\" \n",
    "        idx_set = [i for i in range(len(desc_set))]\n",
    "        np.random.shuffle(idx_set)\n",
    "        for i in idx_set : \n",
    "            y_hat = np.dot(desc_set[i],self.w)\n",
    "            if y_hat*label_set[i]<=0:#erreur\n",
    "                self.w = self.w + self.learning_rate*label_set[i]*desc_set[i]\n",
    "                \n",
    "                \n",
    "    def train(self, desc_set, label_set, niter_max=100, seuil=0.001):\n",
    "        \"\"\" Apprentissage itératif du perceptron sur le dataset donné.\n",
    "            Arguments:\n",
    "                - desc_set: ndarray avec des descriptions\n",
    "                - label_set: ndarray avec les labels correspondants\n",
    "                - niter_max (par défaut: 100) : nombre d'itérations maximale\n",
    "                - seuil (par défaut: 0.001) : seuil de convergence\n",
    "            Retour: la fonction rend une liste\n",
    "                - liste des valeurs de norme de différences\n",
    "        \"\"\"        \n",
    "        liste_diff = []\n",
    "        \n",
    "# Chaque élément de data correspond \n",
    "# Chaque élément de data correspond \n",
    "        for i in range(niter_max):\n",
    "            w_old = self.w.copy()\n",
    "            self.train_step(desc_set, label_set)\n",
    "            norme = np.linalg.norm(abs(w_old-self.w))\n",
    "            liste_diff.append(norme)           \n",
    "            if norme < seuil:#convergeance\n",
    "                break\n",
    "        return liste_diff\n",
    "    \n",
    "    \n",
    "    def score(self,x):\n",
    "        \"\"\" rend le score de prédiction sur x (valeur réelle)\n",
    "            x: une description\n",
    "        \"\"\"\n",
    "        return np.dot(x,self.w)\n",
    "    \n",
    "    def predict(self, x):\n",
    "        \"\"\" rend la prediction sur x (soit -1 ou soit +1)\n",
    "            x: une description\n",
    "        \"\"\"\n",
    "        if self.score(x)<=0:\n",
    "            return -1\n",
    "        return 1"
   ]
  },
  {
   "cell_type": "markdown",
   "metadata": {},
   "source": [
    "### -Données sans validation croisée :"
   ]
  },
  {
   "cell_type": "code",
   "execution_count": 61,
   "metadata": {},
   "outputs": [
    {
     "name": "stdout",
     "output_type": "stream",
     "text": [
      "Nb iterations réalisées:  63\n"
     ]
    },
    {
     "data": {
      "image/png": "[encoded data removed]",
      "text/plain": [
       "<Figure size 432x288 with 1 Axes>"
      ]
     },
     "metadata": {
      "needs_background": "light"
     },
     "output_type": "display_data"
    },
    {
     "name": "stdout",
     "output_type": "stream",
     "text": [
      "Accuracy finale sur les données train:  1.0\n",
      "Accuracy finale sur les données test:  0.872\n"
     ]
    }
   ],
   "source": [
    "np.random.seed(42)   # on prend 42 comme graine\n",
    "\n",
    "# Création d'un perceptron avec initialisation à 0 et le learning_rate ci-dessous:\n",
    "learning_rate = 0.01\n",
    "perceptron = ClassifierPerceptron(c-2,learning_rate)\n",
    "\n",
    "# Apprentissage du perceptron jusqu'à convergence\n",
    "les_variations = perceptron.train(X_binaire_train,Y_binaire_train)\n",
    "print(\"Nb iterations réalisées: \", len(les_variations) )\n",
    "\n",
    "# Traçage de la courbe des variations\n",
    "plt.plot(range(1,len(les_variations)+1),les_variations)  \n",
    "plt.ylabel('Différence')\n",
    "plt.xlabel(\"Etape\")\n",
    "plt.show()\n",
    "\n",
    "print(\"Accuracy finale sur les données train: \",perceptron.accuracy(X_binaire_train,Y_binaire_train))\n",
    "print(\"Accuracy finale sur les données test: \",perceptron.accuracy(X_binaire_test,Y_binaire_test))"
   ]
  },
  {
   "cell_type": "markdown",
   "metadata": {},
   "source": [
    "### Données avec validation croisée : "
   ]
  },
  {
   "cell_type": "code",
   "execution_count": 62,
   "metadata": {},
   "outputs": [
    {
     "name": "stdout",
     "output_type": "stream",
     "text": [
      "-----------------------Itération  1 -------------------------\n",
      "taille base appretissage =  900  taille base de test =  100\n",
      "accuracy test =  0.92\n",
      "-----------------------Itération  2 -------------------------\n",
      "taille base appretissage =  900  taille base de test =  100\n",
      "accuracy test =  0.88\n",
      "-----------------------Itération  3 -------------------------\n",
      "taille base appretissage =  900  taille base de test =  100\n",
      "accuracy test =  0.89\n",
      "-----------------------Itération  4 -------------------------\n",
      "taille base appretissage =  900  taille base de test =  100\n",
      "accuracy test =  0.81\n",
      "-----------------------Itération  5 -------------------------\n",
      "taille base appretissage =  900  taille base de test =  100\n",
      "accuracy test =  0.9\n",
      "-----------------------Itération  6 -------------------------\n",
      "taille base appretissage =  900  taille base de test =  100\n",
      "accuracy test =  0.92\n",
      "-----------------------Itération  7 -------------------------\n",
      "taille base appretissage =  900  taille base de test =  100\n",
      "accuracy test =  0.93\n",
      "-----------------------Itération  8 -------------------------\n",
      "taille base appretissage =  900  taille base de test =  100\n",
      "accuracy test =  0.88\n",
      "-----------------------Itération  9 -------------------------\n",
      "taille base appretissage =  900  taille base de test =  100\n",
      "accuracy test =  0.91\n"
     ]
    }
   ],
   "source": [
    "\n",
    "niter = 10\n",
    "acc_vc_perc=[]\n",
    "for i in range(1,niter):\n",
    "    perceptron1 = ClassifierPerceptron(c-2,learning_rate)\n",
    "    Xapp,Yapp,X_test,Y_test = crossval_strat(XbinMelange, YbinMelange,niter,i)\n",
    "    print(\"-----------------------Itération \",i,\"-------------------------\")\n",
    "    print(\"taille base appretissage = \",len(Xapp),\" taille base de test = \",len(X_test))\n",
    "    perceptron1.train(Xapp, Yapp)\n",
    "    acc=perceptron1.accuracy(X_test, Y_test)\n",
    "    print(\"accuracy test = \",acc)\n",
    "    acc_vc_perc.append(acc)\n",
    "       "
   ]
  },
  {
   "cell_type": "markdown",
   "metadata": {},
   "source": [
    "## 1.3- Comparaison entre le perceptron et le knn : "
   ]
  },
  {
   "cell_type": "markdown",
   "metadata": {},
   "source": [
    "### Sans validation croisée:"
   ]
  },
  {
   "cell_type": "markdown",
   "metadata": {},
   "source": [
    "* On observe que les performances obtenues avec le classifieur KNN sur les données de test sans validation croisée sont meilleures que celles obtenues avec le classfieur Perceptron."
   ]
  },
  {
   "cell_type": "markdown",
   "metadata": {},
   "source": [
    "### Avec validation croisée:"
   ]
  },
  {
   "cell_type": "markdown",
   "metadata": {},
   "source": [
    "- On représente dans un graphe les accuracies des données de tests à chaque itération avec validation croisée. On observe que les valeurs des accuracies de knn sont toujours meilleures que celles du perceptron."
   ]
  },
  {
   "cell_type": "code",
   "execution_count": 67,
   "metadata": {},
   "outputs": [
    {
     "data": {
      "image/png": "[encoded data removed]",
      "text/plain": [
       "<Figure size 432x288 with 1 Axes>"
      ]
     },
     "metadata": {
      "needs_background": "light"
     },
     "output_type": "display_data"
    }
   ],
   "source": [
    "plt.plot([i for i in range(1,niter)],acc_vc_knn,label=\"accuracy knn\")\n",
    "plt.plot([i for i in range(1,niter)],acc_vc_perc,label=\"accuracy perceptron\")\n",
    "plt.xlabel(\"iteration\")\n",
    "plt.ylabel(\"accuracy\")\n",
    "plt.legend()\n",
    "plt.show()"
   ]
  },
  {
   "cell_type": "markdown",
   "metadata": {},
   "source": [
    "- On déduit donc que knn est meilleur que perceptron."
   ]
  },
  {
   "cell_type": "markdown",
   "metadata": {},
   "source": [
    "## 1.4 - Classification des données contenues dans le fichier \"eval.csv\" avec le KNN:"
   ]
  },
  {
   "cell_type": "markdown",
   "metadata": {},
   "source": [
    "- On entraine notre meilleur classifieur Knn sur les données train qui nous ont été données et ensuite on fait la prédecition des classes pour les données du fichier eval et on les écrit dans un fichier csv."
   ]
  },
  {
   "cell_type": "code",
   "execution_count": 19,
   "metadata": {},
   "outputs": [],
   "source": [
    "####Extraction des données\n",
    "data_eval = pd.read_csv(\"Bases_IADS/eval.csv\",sep=';',header=None)\n",
    "X_eval = np.array(data_eval)[:,1:c-1]\n",
    "KNN = ClassifierKNN(c-2,k_best)\n",
    "##phase d'apprentissage\n",
    "KNN.train(X_binaire_train,Y_binaire_train)\n",
    "# Ouvrir le fichier en mode écriture\n",
    "fichier = open('projet-1-BESSAD_KLICH.csv','w')\n",
    "# Créer l'objet fichier\n",
    "obj = csv.writer(fichier)\n",
    "for i in range(len(X_eval)):\n",
    "    label_res=KNN.predict(X_eval[i])#on predit les classes\n",
    "    ligne=(i,label_res)\n",
    "    obj.writerow(ligne)\n",
    "fichier.close()\n",
    "\n"
   ]
  },
  {
   "cell_type": "markdown",
   "metadata": {},
   "source": [
    "# 2-les données Bases_IADS_multiclasses : classification multiclasses"
   ]
  },
  {
   "cell_type": "code",
   "execution_count": 20,
   "metadata": {},
   "outputs": [],
   "source": [
    "##Extraction des données train\n",
    "data_multi_tr = pd.read_csv(\"Bases_IADS_multiclasses/train_multi.csv\",sep=';',header=None)\n",
    "data_multi_array_tr = np.array(data_multi_tr)\n",
    "l,c = data_multi_array_tr.shape\n",
    "X_multi_train = data_multi_array_tr[:,1:c-1]\n",
    "Y_multi_train = data_multi_array_tr[:,-1]\n",
    "\n",
    "\n",
    "nb_classes = len(np.unique(Y_multi_train))#nombre de classes\n",
    "\n",
    "###Extraction des données test\n",
    "data_multi_test = pd.read_csv(\"Bases_IADS_multiclasses/test_multi.csv\",sep=';',header=None)\n",
    "data_multi_array_test = np.array(data_multi_test)\n",
    "l,c = data_multi_array_test.shape\n",
    "X_multi_test = data_multi_array_test[:,1:c-1]\n",
    "Y_multi_test = data_multi_array_test[:,-1]"
   ]
  },
  {
   "cell_type": "markdown",
   "metadata": {},
   "source": [
    "### -  Visualisation des données"
   ]
  },
  {
   "cell_type": "code",
   "execution_count": 22,
   "metadata": {},
   "outputs": [
    {
     "data": {
      "text/plain": [
       "<matplotlib.colorbar.Colorbar at 0x7fbd9a9810a0>"
      ]
     },
     "execution_count": 22,
     "metadata": {},
     "output_type": "execute_result"
    },
    {
     "data": {
      "image/png": "[encoded data removed]",
      "text/plain": [
       "<Figure size 432x288 with 2 Axes>"
      ]
     },
     "metadata": {
      "needs_background": "light"
     },
     "output_type": "display_data"
    }
   ],
   "source": [
    "(v1_etoile,v2_etoile,Yu) = reduction_2d(X_multi_train,Y_multi_train)\n",
    "plt.scatter(v1_etoile,v2_etoile,c=Yu)\n",
    "plt.colorbar()    \n"
   ]
  },
  {
   "cell_type": "markdown",
   "metadata": {},
   "source": [
    "## 2.1-Le classifieur  ClassifierKNN_MC"
   ]
  },
  {
   "cell_type": "code",
   "execution_count": 23,
   "metadata": {},
   "outputs": [],
   "source": [
    "class ClassifierKNN_MC(Classifier):\n",
    "    \"\"\" Classe pour représenter un classifieur par K plus proches voisins.\n",
    "        Cette classe hérite de la classe Classifier\n",
    "    \"\"\"\n",
    "    \n",
    "    def __init__(self, input_dimension, k, nb_class):\n",
    "        \"\"\" Constructeur de Classifier\n",
    "            Argument:\n",
    "                - intput_dimension (int) : dimension d'entrée des exemples\n",
    "                - k (int) : nombre de voisins à considérer\n",
    "                -nb_class (int) :  nombre de classes\n",
    "            Hypothèse : input_dimension > 0\n",
    "        \"\"\"\n",
    "        self.input_dimension = input_dimension\n",
    "        self.nb_class = nb_class\n",
    "        self.k=k\n",
    "        self.data_desc = None\n",
    "        self.data_label = None\n",
    "        \n",
    "    def score(self,x):\n",
    "        \"\"\" rend la proportion de +1 parmi les k ppv de x (valeur réelle)\n",
    "            x: une description : un ndarray\n",
    "        \"\"\"\n",
    "        tab_dist = []\n",
    "        for i in range(len(self.data_desc)):\n",
    "            tab_dist.append(np.dot(x-self.data_desc[i],x-self.data_desc[i]))\n",
    "        tab_idx_tri = np.argsort(tab_dist)#les indices ordonnés des distances  \n",
    "        #on choisit de prendre les k classes minimisant les distances \n",
    "        classes_k = self.data_label[tab_idx_tri[:self.k]]     \n",
    "        classes_uniques, nb_exemples = np.unique(classes_k, return_counts=True)\n",
    "        idx_best_class=np.argmax(nb_exemples)\n",
    "        return classes_uniques[idx_best_class]\n",
    "    \n",
    "    def predict(self, x):\n",
    "        \"\"\" rend la prediction sur x (-1 ou +1)\n",
    "            x: une description : un ndarray\n",
    "        \"\"\"\n",
    "        return self.score(x)\n",
    "          \n",
    "        \n",
    "    def train(self, desc_set, label_set):\n",
    "        \"\"\" Permet d'entrainer le modele sur l'ensemble donné\n",
    "            desc_set: ndarray avec des descriptions\n",
    "            label_set: ndarray avec les labels correspondants\n",
    "            Hypothèse: desc_set et label_set ont le même nombre de lignes\n",
    "        \"\"\"        \n",
    "        self.data_desc = desc_set\n",
    "        self.data_label = label_set\n",
    "            "
   ]
  },
  {
   "cell_type": "markdown",
   "metadata": {},
   "source": [
    "### - Données sans validation croisée :"
   ]
  },
  {
   "cell_type": "markdown",
   "metadata": {},
   "source": [
    "#### Choix du k le plus optimal  :"
   ]
  },
  {
   "cell_type": "code",
   "execution_count": 73,
   "metadata": {},
   "outputs": [
    {
     "name": "stdout",
     "output_type": "stream",
     "text": [
      "---------------k =  1 ------------------------\n",
      "Accuracy (test) pour  1 : 0.8925\n",
      "---------------k =  3 ------------------------\n",
      "Accuracy (test) pour  3 : 0.8955\n",
      "---------------k =  5 ------------------------\n",
      "Accuracy (test) pour  5 : 0.9025\n",
      "---------------k =  7 ------------------------\n",
      "Accuracy (test) pour  7 : 0.899\n",
      "---------------k =  9 ------------------------\n",
      "Accuracy (test) pour  9 : 0.8925\n",
      "le meilleur k est donc : 5\n"
     ]
    },
    {
     "data": {
      "image/png": "[encoded data removed]",
      "text/plain": [
       "<Figure size 432x288 with 1 Axes>"
      ]
     },
     "metadata": {
      "needs_background": "light"
     },
     "output_type": "display_data"
    }
   ],
   "source": [
    "# on stocke les accuracies dans une liste :\n",
    "accuracies_train = []\n",
    "accuracies_test = []\n",
    "\n",
    "# seuil max des valeurs de k à regarder:\n",
    "seuil_k = len(X_multi_train) // 200\n",
    "\n",
    "# toutes les valeurs de k à regarder:\n",
    "valeurs_k = [k for k in range(1,seuil_k,2)]\n",
    "\n",
    "for k in valeurs_k:\n",
    "    # Création d'un knn avec k et c-2 dimensions pour les données\n",
    "    classifierKNN_MC = ClassifierKNN_MC(c-2,k,nb_classes)\n",
    "    # Entraînement du classifier:\n",
    "    classifierKNN_MC.train(X_multi_train,Y_multi_train)\n",
    "    # acccuracies pour test\n",
    "    tmp = classifierKNN_MC.accuracy(X_multi_test,Y_multi_test)\n",
    "    print(\"---------------k = \",k,\"------------------------\")\n",
    "    print(\"Accuracy (test) pour \",k,\":\",tmp)\n",
    "    accuracies_test.append(tmp)\n",
    "plt.plot(valeurs_k,accuracies_test)\n",
    "plt.xlabel(\"k\")\n",
    "plt.ylabel(\"accuracy\")\n",
    "k_best_multi = valeurs_k[np.argmax(accuracies_test)]\n",
    "print(\"le meilleur k est donc :\",k_best_multi)\n"
   ]
  },
  {
   "cell_type": "code",
   "execution_count": 12,
   "metadata": {},
   "outputs": [
    {
     "name": "stdout",
     "output_type": "stream",
     "text": [
      "Accuracy finale train :  0.936\n",
      "Accuracy finale test :  0.9025\n"
     ]
    }
   ],
   "source": [
    "knn_mc = ClassifierKNN_MC(c-2,k_best_multi,nb_classes)\n",
    "knn_mc.train(X_multi_train,Y_multi_train)\n",
    "\n",
    "print(\"Accuracy finale train : \",knn_mc.accuracy(X_multi_train,Y_multi_train))\n",
    "print(\"Accuracy finale test : \",knn_mc.accuracy(X_multi_test,Y_multi_test))\n"
   ]
  },
  {
   "cell_type": "markdown",
   "metadata": {},
   "source": [
    "### - Données avec validation croisée :"
   ]
  },
  {
   "cell_type": "code",
   "execution_count": 26,
   "metadata": {},
   "outputs": [],
   "source": [
    "###EXtraction des données multiclasses de validation croisée\n",
    "np.random.seed(42)   # on prend 42 comme graine\n",
    "index = np.random.permutation(len(X_multi_train)) # mélange des index\n",
    "XmultiMelange = X_multi_train[index]\n",
    "YmultiMelange = Y_multi_train[index]\n"
   ]
  },
  {
   "cell_type": "code",
   "execution_count": 28,
   "metadata": {},
   "outputs": [
    {
     "name": "stdout",
     "output_type": "stream",
     "text": [
      "-----------------------Itération  1 -------------------------\n",
      "taille base appretissage =  1800  taille base de test =  200\n",
      "accuracy test =  0.9\n",
      "-----------------------Itération  2 -------------------------\n",
      "taille base appretissage =  1800  taille base de test =  200\n",
      "accuracy test =  0.9\n",
      "-----------------------Itération  3 -------------------------\n",
      "taille base appretissage =  1800  taille base de test =  200\n",
      "accuracy test =  0.865\n",
      "-----------------------Itération  4 -------------------------\n",
      "taille base appretissage =  1800  taille base de test =  200\n",
      "accuracy test =  0.885\n",
      "-----------------------Itération  5 -------------------------\n",
      "taille base appretissage =  1800  taille base de test =  200\n",
      "accuracy test =  0.92\n",
      "-----------------------Itération  6 -------------------------\n",
      "taille base appretissage =  1800  taille base de test =  200\n",
      "accuracy test =  0.9\n",
      "-----------------------Itération  7 -------------------------\n",
      "taille base appretissage =  1800  taille base de test =  200\n",
      "accuracy test =  0.885\n",
      "-----------------------Itération  8 -------------------------\n",
      "taille base appretissage =  1800  taille base de test =  200\n",
      "accuracy test =  0.895\n",
      "-----------------------Itération  9 -------------------------\n",
      "taille base appretissage =  1800  taille base de test =  200\n",
      "accuracy test =  0.91\n"
     ]
    }
   ],
   "source": [
    "niter = 10\n",
    "acc_vc_knn_MC=[]\n",
    "for i in range(1,niter):\n",
    "    Xapp,Yapp,X_test,Y_test = crossval(XmultiMelange, YmultiMelange,niter,i)\n",
    "    knn2_multi = ClassifierKNN_MC(c-2,k_best_multi,nb_classes)\n",
    "    print(\"-----------------------Itération \",i,\"-------------------------\")\n",
    "    print(\"taille base appretissage = \",len(Xapp),\" taille base de test = \",len(X_test))\n",
    "    knn2_multi.train(Xapp, Yapp)\n",
    "    acc = knn2_multi.accuracy(X_test, Y_test)\n",
    "    print(\"accuracy test = \",acc)\n",
    "    acc_vc_knn_MC.append(acc)\n",
    "    "
   ]
  },
  {
   "cell_type": "markdown",
   "metadata": {},
   "source": [
    "## 2.2- Apprentissage avec classifieur Perceptron_MC"
   ]
  },
  {
   "cell_type": "code",
   "execution_count": 31,
   "metadata": {},
   "outputs": [],
   "source": [
    "class Perceptron_MC(Classifier):\n",
    "    #on cree autant de perceptron que de classes \n",
    "    #on fait une boucle dans le train qui pour chaque classe i va encoder celle-ci à 1 et le reste à -1 et on refait cela nb_classe*nb_iteratiosn_train_fois\n",
    "    def __init__(self,input_dimension,nb_classes):\n",
    "        super().__init__(input_dimension)\n",
    "        self.nb_classes = nb_classes\n",
    "        self.liste_w = []\n",
    "    def train(self,data_set,label_set, dim_perc,learning_rate,init,niter_max, seuil):\n",
    "        for i in range(self.nb_classes):\n",
    "            #on se ramène à un problème de classification binaire\n",
    "            #classe 1 ( c'est la classe courante (la ième))\n",
    "            w1 = np.where(label_set==i)[0]\n",
    "            tmp_label1 = label_set[w1]\n",
    "            tmp_label1[tmp_label1==i]=1\n",
    "            tmp_data1 = data_set[w1]\n",
    "            #classe -1 (le reste des classes)\n",
    "            w_1 = np.where(label_set!=i)[0]\n",
    "            tmp_label_1 = label_set[w_1]\n",
    "            tmp_label_1[tmp_label_1!=i]=-1\n",
    "            tmp_data_1 = data_set[w_1]\n",
    "            p = ClassifierPerceptron(dim_perc,learning_rate,init)\n",
    "            p.train(np.concatenate((tmp_data_1,tmp_data1)),np.concatenate((tmp_label_1,tmp_label1)), niter_max, seuil)   \n",
    "            self.liste_w.append(p.w)\n",
    "    def score(self,x):\n",
    "        score=[]\n",
    "        for i in range(self.nb_classes):\n",
    "            score.append(np.dot(self.liste_w[i],x))\n",
    "        return score\n",
    "    def predict(self,x):\n",
    "        return np.argmax(self.score(x)) "
   ]
  },
  {
   "cell_type": "markdown",
   "metadata": {},
   "source": [
    "### - Données sans validation croisée :"
   ]
  },
  {
   "cell_type": "code",
   "execution_count": 33,
   "metadata": {},
   "outputs": [
    {
     "name": "stdout",
     "output_type": "stream",
     "text": [
      "Accuracy finale train :  0.9965\n",
      "Accuracy finale test :  0.8215\n"
     ]
    }
   ],
   "source": [
    "p_MC = Perceptron_MC(c-2,nb_classes)\n",
    "p_MC.train(X_multi_train,Y_multi_train,c-2,0.001,0,100,0.01)\n",
    "\n",
    "print(\"Accuracy finale train : \",p_MC.accuracy(X_multi_train,Y_multi_train))\n",
    "print(\"Accuracy finale test : \",p_MC.accuracy(X_multi_test,Y_multi_test))"
   ]
  },
  {
   "cell_type": "markdown",
   "metadata": {},
   "source": [
    "### - Données avec validation croisée :"
   ]
  },
  {
   "cell_type": "code",
   "execution_count": 74,
   "metadata": {},
   "outputs": [
    {
     "name": "stdout",
     "output_type": "stream",
     "text": [
      "-----------------------Itération  1 -------------------------\n",
      "taille base appretissage =  1800  taille base de test =  200\n",
      "accuracy test =  0.805\n",
      "-----------------------Itération  2 -------------------------\n",
      "taille base appretissage =  1800  taille base de test =  200\n",
      "accuracy test =  0.84\n",
      "-----------------------Itération  3 -------------------------\n",
      "taille base appretissage =  1800  taille base de test =  200\n",
      "accuracy test =  0.82\n",
      "-----------------------Itération  4 -------------------------\n",
      "taille base appretissage =  1800  taille base de test =  200\n",
      "accuracy test =  0.88\n",
      "-----------------------Itération  5 -------------------------\n",
      "taille base appretissage =  1800  taille base de test =  200\n",
      "accuracy test =  0.835\n",
      "-----------------------Itération  6 -------------------------\n",
      "taille base appretissage =  1800  taille base de test =  200\n",
      "accuracy test =  0.83\n",
      "-----------------------Itération  7 -------------------------\n",
      "taille base appretissage =  1800  taille base de test =  200\n",
      "accuracy test =  0.87\n",
      "-----------------------Itération  8 -------------------------\n",
      "taille base appretissage =  1800  taille base de test =  200\n",
      "accuracy test =  0.805\n",
      "-----------------------Itération  9 -------------------------\n",
      "taille base appretissage =  1800  taille base de test =  200\n",
      "accuracy test =  0.86\n"
     ]
    }
   ],
   "source": [
    "niter = 10\n",
    "acc_perc_multi = []\n",
    "for i in range(1,niter):\n",
    "    Xapp,Yapp,X_test,Y_test = crossval(XmultiMelange, YmultiMelange,niter,i)\n",
    "    p1 = Perceptron_MC(c-2,nb_classes)\n",
    "    print(\"-----------------------Itération \",i,\"-------------------------\")\n",
    "    print(\"taille base appretissage = \",len(Xapp),\" taille base de test = \",len(X_test))\n",
    "    p1.train(Xapp, Yapp,c-2,0.001,0,100,0.01)\n",
    "    acc_p = p1.accuracy(X_test, Y_test)\n",
    "    print(\"accuracy test = \",acc_p)\n",
    "    acc_perc_multi.append(acc_p)"
   ]
  },
  {
   "cell_type": "markdown",
   "metadata": {},
   "source": [
    "## 2.3-Comparaison"
   ]
  },
  {
   "cell_type": "markdown",
   "metadata": {},
   "source": [
    "### - Sans validation croisée :"
   ]
  },
  {
   "cell_type": "markdown",
   "metadata": {},
   "source": [
    " - On observe que les performances obtenues avec le classifieur KNN_MC sur les données multiclasses de test sans validation croisée sont meilleures que celles obtenues avec le classfieur Perceptron_MC."
   ]
  },
  {
   "cell_type": "markdown",
   "metadata": {},
   "source": [
    "### - Avec validation croisée :"
   ]
  },
  {
   "cell_type": "markdown",
   "metadata": {},
   "source": [
    "- On représente dans un graphe les accuracies des données de tests à chaque itération avec validation croisée. On observe que les valeurs des accuracies de knn sont toujours meilleures que celles du perceptron."
   ]
  },
  {
   "cell_type": "code",
   "execution_count": 75,
   "metadata": {},
   "outputs": [
    {
     "data": {
      "image/png": "[encoded data removed]",
      "text/plain": [
       "<Figure size 432x288 with 1 Axes>"
      ]
     },
     "metadata": {
      "needs_background": "light"
     },
     "output_type": "display_data"
    }
   ],
   "source": [
    "plt.plot([i for i in range(1,niter)],acc_vc_knn_MC,label=\"accuracy knn_MC\")\n",
    "plt.plot([i for i in range(1,niter)],acc_perc_multi,label=\"accuracy perceptron_MC\")\n",
    "plt.xlabel(\"iteration\")\n",
    "plt.ylabel(\"accuracy\")\n",
    "plt.legend()\n",
    "plt.show()"
   ]
  },
  {
   "cell_type": "markdown",
   "metadata": {},
   "source": [
    " - On déduit donc que le classifieur knn_MC est meilleur que le perceptron_MC"
   ]
  },
  {
   "cell_type": "markdown",
   "metadata": {},
   "source": [
    "## 2.4-  Classification des données contenues dans le fichier \"eval.csv\" avec le KNN_MC:"
   ]
  },
  {
   "cell_type": "code",
   "execution_count": 76,
   "metadata": {},
   "outputs": [],
   "source": [
    "####Extraction des données\n",
    "data_eval = pd.read_csv(\"Bases_IADS_multiclasses/eval_multi.csv\",sep=';',header=None)\n",
    "X_eval = np.array(data_eval)[:,1:c-1]\n",
    "\n",
    "KNN_MC = ClassifierKNN_MC(c-2,k_best_multi,nb_classes)\n",
    "KNN_MC.train(X_multi_train, Y_multi_train)\n",
    "\n",
    "# Ouvrir le fichier en mode écriture\n",
    "fichier = open('projet-1-BESSAD_KLICH_multi.csv','w')\n",
    "# Créer l'objet fichier\n",
    "obj_m = csv.writer(fichier)\n",
    "for i in range(len(X_eval)):\n",
    "    label_res = KNN_MC.predict(X_eval[i])\n",
    "    ligne=(i,label_res)\n",
    "    obj_m.writerow(ligne)\n",
    "fichier.close()\n",
    "\n"
   ]
  }
 ],
 "metadata": {
  "kernelspec": {
   "display_name": "Python 3",
   "language": "python",
   "name": "python3"
  },
  "language_info": {
   "codemirror_mode": {
    "name": "ipython",
    "version": 3
   },
   "file_extension": ".py",
   "mimetype": "text/x-python",
   "name": "python",
   "nbconvert_exporter": "python",
   "pygments_lexer": "ipython3",
   "version": "3.8.5"
  }
 },
 "nbformat": 4,
 "nbformat_minor": 1
}
