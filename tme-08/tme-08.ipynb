{
 "cells": [
  {
   "cell_type": "markdown",
   "metadata": {},
   "source": [
    "IA & Data science (LU3IN0226) -- 2021-2022\n",
    "--------\n",
    "*&copy; Equipe pédagogique: Vincent Guigue, Christophe Marsala, Olivier Schwander.*"
   ]
  },
  {
   "cell_type": "markdown",
   "metadata": {},
   "source": [
    "# TD-TME08: méthodes d'ensembles\n",
    "\n",
    "L'objectif de ce notebook est d'implémenter des méthodes d'ensembles et de les évaluer. Dans un premier temps, on se focalisera sur l'algorithme de bagging appliqué aux arbres de décision, puis on passera au random forests.\n",
    "\n",
    "Dans un premier temps, on ne considére que le cas où les attributs sont tous numériques."
   ]
  },
  {
   "cell_type": "markdown",
   "metadata": {},
   "source": [
    "<font color=\"RED\" size=\"+1\">**[Q]**</font> **Indiquer dans la boîte ci-dessous vos noms et prénoms :**"
   ]
  },
  {
   "cell_type": "markdown",
   "metadata": {},
   "source": [
    "BESSAD Melina & KLICH NourElhouda"
   ]
  },
  {
   "cell_type": "markdown",
   "metadata": {},
   "source": [
    "<font color=\"RED\" size=\"+1\"><b>[Q]</b></font> **Renommer ce fichier ipython**\n",
    "\n",
    "Tout en haut de cette page, cliquer sur <tt>tme-08</tt> et rajouter à la suite de <tt>tme-08</tt> les noms des membres du binômes séparés par un tiret.\n",
    "\n",
    "<font color=\"RED\" size=\"+1\">IMPORTANT: soumission de votre fichier final</font>\n",
    "\n",
    "**Nom à donner au fichier à poster** : *tme-08-Nom1_Nom2.ipynb* \n",
    "- *Nom1* et *Nom2* : noms des membres du binôme\n",
    "- ne pas compresser ou faire une archive: il faut rendre le fichier ipython tel quel, éventuellement, si vous avez d'autres fichiers vous les rendez séparément.\n",
    "\n",
    "**Echancier pour la soumission de votre compte-rendu:**\n",
    "- le compte-rendu d'une séance doit être remis obligatoirement <font color=\"RED\">avant la séance suivante</font>.\n",
    "\n",
    "**Le compte-rendu est soumis sur la page Moodle.**"
   ]
  },
  {
   "cell_type": "code",
   "execution_count": 1,
   "metadata": {},
   "outputs": [],
   "source": [
    "# Importation des librairies standards:\n",
    "import numpy as np\n",
    "import pandas as pd\n",
    "import matplotlib.pyplot as plt\n",
    "%matplotlib inline  \n",
    "\n",
    "# Importation de votre librairie iads:\n",
    "# La ligne suivante permet de préciser le chemin d'accès à la librairie iads\n",
    "import sys\n",
    "sys.path.append('../')   # iads doit être dans le répertoire frère du répertoire courant !\n",
    "\n",
    "# Importation de la librairie iads\n",
    "import iads as iads\n",
    "\n",
    "# importation de Classifiers\n",
    "from iads import Classifiers as cl\n",
    "\n",
    "# importation de utils\n",
    "from iads import utils as ut\n",
    "\n",
    "# commande TRES utile pour recharger automatiquement le code que vous modifiez dans les modules\n",
    "%load_ext autoreload\n",
    "%autoreload 2"
   ]
  },
  {
   "cell_type": "markdown",
   "metadata": {},
   "source": [
    "## Préparation : retour sur les arbres de décision"
   ]
  },
  {
   "cell_type": "markdown",
   "metadata": {},
   "source": [
    "### Création d'un dataset pour tester les fonctions"
   ]
  },
  {
   "cell_type": "code",
   "execution_count": 2,
   "metadata": {},
   "outputs": [
    {
     "name": "stdout",
     "output_type": "stream",
     "text": [
      "Taille du dataset généré : (100, 2) exemples\n"
     ]
    },
    {
     "data": {
      "image/png": "[encoded data removed]",
      "text/plain": [
       "<Figure size 432x288 with 1 Axes>"
      ]
     },
     "metadata": {
      "needs_background": "light"
     },
     "output_type": "display_data"
    }
   ],
   "source": [
    "# On initialise la graine\n",
    "np.random.seed(42)   \n",
    "\n",
    "d_desc, d_label = ut.genere_dataset_gaussian(np.array([1,1]),1, \\\n",
    "                                             np.array([-1,-1]),1, 50)\n",
    "\n",
    "print(\"Taille du dataset généré :\", np.shape(d_desc), \"exemples\")\n",
    "\n",
    "# Affichage :\n",
    "ut.plot2DSet(d_desc,d_label)"
   ]
  },
  {
   "cell_type": "markdown",
   "metadata": {},
   "source": [
    "### Frontière de séparation des classes \n",
    "\n",
    "Après avoir recopié vos fonctions de construction des arbres numériques du TME 7, afficher la frontière de séparation des classes et l'arbre obtenu pour les données générées."
   ]
  },
  {
   "cell_type": "code",
   "execution_count": 3,
   "metadata": {},
   "outputs": [
    {
     "name": "stdout",
     "output_type": "stream",
     "text": [
      "Accuracy (train):  1.0\n"
     ]
    },
    {
     "data": {
      "image/png": "[encoded data removed]",
      "text/plain": [
       "<Figure size 432x288 with 1 Axes>"
      ]
     },
     "metadata": {
      "needs_background": "light"
     },
     "output_type": "display_data"
    }
   ],
   "source": [
    "# De même, les classes de Classifiers sont utilisables en mettant classif. devant leur nom:\n",
    "# Création d'un perceptron\n",
    "arbre_1 = cl.ClassifierArbreNumerique(2, 0.0)\n",
    "\n",
    "# Construction de l'arbre de décision à partir du dataset généré plus haut\n",
    "arbre_1.train(d_desc,d_label)\n",
    "print(\"Accuracy (train): \", arbre_1.accuracy(d_desc,d_label))\n",
    "\n",
    "# Affichage de la frontière de séparation des classes\n",
    "ut.plot_frontiere(d_desc,d_label,arbre_1,step=100)\n",
    "ut.plot2DSet(d_desc,d_label)"
   ]
  },
  {
   "cell_type": "code",
   "execution_count": 4,
   "metadata": {},
   "outputs": [
    {
     "data": {
      "image/svg+xml": [
       "<?xml version=\"1.0\" encoding=\"UTF-8\" standalone=\"no\"?>\n",
       "<!DOCTYPE svg PUBLIC \"-//W3C//DTD SVG 1.1//EN\"\n",
       " \"http://www.w3.org/Graphics/SVG/1.1/DTD/svg11.dtd\">\n",
       "<!-- Generated by graphviz version 2.40.1 (20161225.0304)\n",
       " -->\n",
       "<!-- Title: %3 Pages: 1 -->\n",
       "<svg width=\"734pt\" height=\"653pt\"\n",
       " viewBox=\"0.00 0.00 734.00 653.00\" xmlns=\"http://www.w3.org/2000/svg\" xmlns:xlink=\"http://www.w3.org/1999/xlink\">\n",
       "<g id=\"graph0\" class=\"graph\" transform=\"scale(1 1) rotate(0) translate(4 649)\">\n",
       "<title>%3</title>\n",
       "<polygon fill=\"#ffffff\" stroke=\"transparent\" points=\"-4,4 -4,-649 730,-649 730,4 -4,4\"/>\n",
       "<!-- A -->\n",
       "<g id=\"node1\" class=\"node\">\n",
       "<title>A</title>\n",
       "<ellipse fill=\"none\" stroke=\"#000000\" cx=\"263\" cy=\"-627\" rx=\"28.6953\" ry=\"18\"/>\n",
       "<text text-anchor=\"middle\" x=\"263\" y=\"-623.3\" font-family=\"Times,serif\" font-size=\"14.00\" fill=\"#000000\">att_0</text>\n",
       "</g>\n",
       "<!-- Ag -->\n",
       "<g id=\"node2\" class=\"node\">\n",
       "<title>Ag</title>\n",
       "<ellipse fill=\"none\" stroke=\"#000000\" cx=\"182\" cy=\"-540\" rx=\"28.6953\" ry=\"18\"/>\n",
       "<text text-anchor=\"middle\" x=\"182\" y=\"-536.3\" font-family=\"Times,serif\" font-size=\"14.00\" fill=\"#000000\">att_1</text>\n",
       "</g>\n",
       "<!-- A&#45;&gt;Ag -->\n",
       "<g id=\"edge15\" class=\"edge\">\n",
       "<title>A&#45;&gt;Ag</title>\n",
       "<path fill=\"none\" stroke=\"#000000\" d=\"M235.0619,-622.283C216.9266,-617.6282 194.5846,-608.5371 183,-591 178.5879,-584.3208 177.1669,-576.0001 177.1747,-568.0297\"/>\n",
       "<polygon fill=\"#000000\" stroke=\"#000000\" points=\"180.6754,-568.1398 177.8767,-557.9213 173.6922,-567.6547 180.6754,-568.1398\"/>\n",
       "<text text-anchor=\"middle\" x=\"253\" y=\"-579.8\" font-family=\"Times,serif\" font-size=\"14.00\" fill=\"#000000\">&lt;=&#45;0.6383639749523659</text>\n",
       "</g>\n",
       "<!-- Ad -->\n",
       "<g id=\"node5\" class=\"node\">\n",
       "<title>Ad</title>\n",
       "<ellipse fill=\"none\" stroke=\"#000000\" cx=\"345\" cy=\"-540\" rx=\"28.6953\" ry=\"18\"/>\n",
       "<text text-anchor=\"middle\" x=\"345\" y=\"-536.3\" font-family=\"Times,serif\" font-size=\"14.00\" fill=\"#000000\">att_1</text>\n",
       "</g>\n",
       "<!-- A&#45;&gt;Ad -->\n",
       "<g id=\"edge16\" class=\"edge\">\n",
       "<title>A&#45;&gt;Ad</title>\n",
       "<path fill=\"none\" stroke=\"#000000\" d=\"M287.0862,-616.9031C299.1567,-610.8524 313.2409,-602.1536 323,-591 328.8686,-584.2929 333.3672,-575.7814 336.7201,-567.6426\"/>\n",
       "<polygon fill=\"#000000\" stroke=\"#000000\" points=\"340.0828,-568.6395 340.2568,-558.0461 333.5146,-566.2188 340.0828,-568.6395\"/>\n",
       "<text text-anchor=\"middle\" x=\"399\" y=\"-579.8\" font-family=\"Times,serif\" font-size=\"14.00\" fill=\"#000000\">&gt;&#45;0.6383639749523659</text>\n",
       "</g>\n",
       "<!-- Agg -->\n",
       "<g id=\"node3\" class=\"node\">\n",
       "<title>Agg</title>\n",
       "<polygon fill=\"none\" stroke=\"#000000\" points=\"54,-471 0,-471 0,-435 54,-435 54,-471\"/>\n",
       "<text text-anchor=\"middle\" x=\"27\" y=\"-449.3\" font-family=\"Times,serif\" font-size=\"14.00\" fill=\"#000000\">&#45;1</text>\n",
       "</g>\n",
       "<!-- Ag&#45;&gt;Agg -->\n",
       "<g id=\"edge1\" class=\"edge\">\n",
       "<title>Ag&#45;&gt;Agg</title>\n",
       "<path fill=\"none\" stroke=\"#000000\" d=\"M154.0475,-535.9139C118.4991,-530.1892 59.8209,-518.8013 44,-504 37.6041,-498.0163 33.613,-489.5663 31.123,-481.2622\"/>\n",
       "<polygon fill=\"#000000\" stroke=\"#000000\" points=\"34.4913,-480.2979 28.7695,-471.381 27.6818,-481.9198 34.4913,-480.2979\"/>\n",
       "<text text-anchor=\"middle\" x=\"112\" y=\"-492.8\" font-family=\"Times,serif\" font-size=\"14.00\" fill=\"#000000\">&lt;=0.8522781845089378</text>\n",
       "</g>\n",
       "<!-- Agd -->\n",
       "<g id=\"node4\" class=\"node\">\n",
       "<title>Agd</title>\n",
       "<polygon fill=\"none\" stroke=\"#000000\" points=\"213,-471 159,-471 159,-435 213,-435 213,-471\"/>\n",
       "<text text-anchor=\"middle\" x=\"186\" y=\"-449.3\" font-family=\"Times,serif\" font-size=\"14.00\" fill=\"#000000\">1</text>\n",
       "</g>\n",
       "<!-- Ag&#45;&gt;Agd -->\n",
       "<g id=\"edge2\" class=\"edge\">\n",
       "<title>Ag&#45;&gt;Agd</title>\n",
       "<path fill=\"none\" stroke=\"#000000\" d=\"M182.8288,-521.9735C183.3705,-510.1918 184.0892,-494.5607 184.7054,-481.1581\"/>\n",
       "<polygon fill=\"#000000\" stroke=\"#000000\" points=\"188.2092,-481.1536 185.1723,-471.0034 181.2166,-480.832 188.2092,-481.1536\"/>\n",
       "<text text-anchor=\"middle\" x=\"248.5\" y=\"-492.8\" font-family=\"Times,serif\" font-size=\"14.00\" fill=\"#000000\">&gt;0.8522781845089378</text>\n",
       "</g>\n",
       "<!-- Adg -->\n",
       "<g id=\"node6\" class=\"node\">\n",
       "<title>Adg</title>\n",
       "<polygon fill=\"none\" stroke=\"#000000\" points=\"369,-471 315,-471 315,-435 369,-435 369,-471\"/>\n",
       "<text text-anchor=\"middle\" x=\"342\" y=\"-449.3\" font-family=\"Times,serif\" font-size=\"14.00\" fill=\"#000000\">&#45;1</text>\n",
       "</g>\n",
       "<!-- Ad&#45;&gt;Adg -->\n",
       "<g id=\"edge13\" class=\"edge\">\n",
       "<title>Ad&#45;&gt;Adg</title>\n",
       "<path fill=\"none\" stroke=\"#000000\" d=\"M343.8554,-521.6918C343.5353,-516.0228 343.2162,-509.7548 343,-504 342.7275,-496.7461 342.5269,-488.9088 342.3802,-481.6054\"/>\n",
       "<polygon fill=\"#000000\" stroke=\"#000000\" points=\"345.8765,-481.3544 342.2017,-471.4173 338.8776,-481.4771 345.8765,-481.3544\"/>\n",
       "<text text-anchor=\"middle\" x=\"413\" y=\"-492.8\" font-family=\"Times,serif\" font-size=\"14.00\" fill=\"#000000\">&lt;=&#45;0.6712488903403155</text>\n",
       "</g>\n",
       "<!-- Add -->\n",
       "<g id=\"node7\" class=\"node\">\n",
       "<title>Add</title>\n",
       "<ellipse fill=\"none\" stroke=\"#000000\" cx=\"505\" cy=\"-453\" rx=\"28.6953\" ry=\"18\"/>\n",
       "<text text-anchor=\"middle\" x=\"505\" y=\"-449.3\" font-family=\"Times,serif\" font-size=\"14.00\" fill=\"#000000\">att_0</text>\n",
       "</g>\n",
       "<!-- Ad&#45;&gt;Add -->\n",
       "<g id=\"edge14\" class=\"edge\">\n",
       "<title>Ad&#45;&gt;Add</title>\n",
       "<path fill=\"none\" stroke=\"#000000\" d=\"M373.0703,-535.6556C408.4434,-529.6862 466.608,-518.0712 483,-504 490.047,-497.9507 494.9054,-489.2346 498.2247,-480.7144\"/>\n",
       "<polygon fill=\"#000000\" stroke=\"#000000\" points=\"501.6291,-481.5674 501.453,-470.974 494.9846,-479.3651 501.6291,-481.5674\"/>\n",
       "<text text-anchor=\"middle\" x=\"560\" y=\"-492.8\" font-family=\"Times,serif\" font-size=\"14.00\" fill=\"#000000\">&gt;&#45;0.6712488903403155</text>\n",
       "</g>\n",
       "<!-- Addg -->\n",
       "<g id=\"node8\" class=\"node\">\n",
       "<title>Addg</title>\n",
       "<ellipse fill=\"none\" stroke=\"#000000\" cx=\"426\" cy=\"-366\" rx=\"28.6953\" ry=\"18\"/>\n",
       "<text text-anchor=\"middle\" x=\"426\" y=\"-362.3\" font-family=\"Times,serif\" font-size=\"14.00\" fill=\"#000000\">att_1</text>\n",
       "</g>\n",
       "<!-- Add&#45;&gt;Addg -->\n",
       "<g id=\"edge11\" class=\"edge\">\n",
       "<title>Add&#45;&gt;Addg</title>\n",
       "<path fill=\"none\" stroke=\"#000000\" d=\"M477.3541,-447.9818C459.7329,-443.21 438.1805,-434.1024 427,-417 422.6199,-410.2998 421.2082,-401.9729 421.2148,-394.0034\"/>\n",
       "<polygon fill=\"#000000\" stroke=\"#000000\" points=\"424.7153,-394.116 421.9101,-383.8993 417.7318,-393.6354 424.7153,-394.116\"/>\n",
       "<text text-anchor=\"middle\" x=\"495\" y=\"-405.8\" font-family=\"Times,serif\" font-size=\"14.00\" fill=\"#000000\">&lt;=0.5792128155073915</text>\n",
       "</g>\n",
       "<!-- Addd -->\n",
       "<g id=\"node17\" class=\"node\">\n",
       "<title>Addd</title>\n",
       "<polygon fill=\"none\" stroke=\"#000000\" points=\"612,-384 558,-384 558,-348 612,-348 612,-384\"/>\n",
       "<text text-anchor=\"middle\" x=\"585\" y=\"-362.3\" font-family=\"Times,serif\" font-size=\"14.00\" fill=\"#000000\">1</text>\n",
       "</g>\n",
       "<!-- Add&#45;&gt;Addd -->\n",
       "<g id=\"edge12\" class=\"edge\">\n",
       "<title>Add&#45;&gt;Addd</title>\n",
       "<path fill=\"none\" stroke=\"#000000\" d=\"M528.5666,-442.5877C540.1693,-436.4997 553.6387,-427.8631 563,-417 568.8178,-410.2488 573.3024,-401.7251 576.658,-393.5886\"/>\n",
       "<polygon fill=\"#000000\" stroke=\"#000000\" points=\"580.0177,-394.5943 580.205,-384.0011 573.4526,-392.1654 580.0177,-394.5943\"/>\n",
       "<text text-anchor=\"middle\" x=\"636.5\" y=\"-405.8\" font-family=\"Times,serif\" font-size=\"14.00\" fill=\"#000000\">&gt;0.5792128155073915</text>\n",
       "</g>\n",
       "<!-- Addgg -->\n",
       "<g id=\"node9\" class=\"node\">\n",
       "<title>Addgg</title>\n",
       "<ellipse fill=\"none\" stroke=\"#000000\" cx=\"347\" cy=\"-279\" rx=\"28.6953\" ry=\"18\"/>\n",
       "<text text-anchor=\"middle\" x=\"347\" y=\"-275.3\" font-family=\"Times,serif\" font-size=\"14.00\" fill=\"#000000\">att_1</text>\n",
       "</g>\n",
       "<!-- Addg&#45;&gt;Addgg -->\n",
       "<g id=\"edge9\" class=\"edge\">\n",
       "<title>Addg&#45;&gt;Addgg</title>\n",
       "<path fill=\"none\" stroke=\"#000000\" d=\"M398.3541,-360.9818C380.7329,-356.21 359.1805,-347.1024 348,-330 343.6199,-323.2998 342.2082,-314.9729 342.2148,-307.0034\"/>\n",
       "<polygon fill=\"#000000\" stroke=\"#000000\" points=\"345.7153,-307.116 342.9101,-296.8993 338.7318,-306.6354 345.7153,-307.116\"/>\n",
       "<text text-anchor=\"middle\" x=\"416\" y=\"-318.8\" font-family=\"Times,serif\" font-size=\"14.00\" fill=\"#000000\">&lt;=0.5230298564080254</text>\n",
       "</g>\n",
       "<!-- Addgd -->\n",
       "<g id=\"node16\" class=\"node\">\n",
       "<title>Addgd</title>\n",
       "<polygon fill=\"none\" stroke=\"#000000\" points=\"533,-297 479,-297 479,-261 533,-261 533,-297\"/>\n",
       "<text text-anchor=\"middle\" x=\"506\" y=\"-275.3\" font-family=\"Times,serif\" font-size=\"14.00\" fill=\"#000000\">1</text>\n",
       "</g>\n",
       "<!-- Addg&#45;&gt;Addgd -->\n",
       "<g id=\"edge10\" class=\"edge\">\n",
       "<title>Addg&#45;&gt;Addgd</title>\n",
       "<path fill=\"none\" stroke=\"#000000\" d=\"M449.5666,-355.5877C461.1693,-349.4997 474.6387,-340.8631 484,-330 489.8178,-323.2488 494.3024,-314.7251 497.658,-306.5886\"/>\n",
       "<polygon fill=\"#000000\" stroke=\"#000000\" points=\"501.0177,-307.5943 501.205,-297.0011 494.4526,-305.1654 501.0177,-307.5943\"/>\n",
       "<text text-anchor=\"middle\" x=\"557.5\" y=\"-318.8\" font-family=\"Times,serif\" font-size=\"14.00\" fill=\"#000000\">&gt;0.5230298564080254</text>\n",
       "</g>\n",
       "<!-- Addggg -->\n",
       "<g id=\"node10\" class=\"node\">\n",
       "<title>Addggg</title>\n",
       "<polygon fill=\"none\" stroke=\"#000000\" points=\"293,-210 239,-210 239,-174 293,-174 293,-210\"/>\n",
       "<text text-anchor=\"middle\" x=\"266\" y=\"-188.3\" font-family=\"Times,serif\" font-size=\"14.00\" fill=\"#000000\">1</text>\n",
       "</g>\n",
       "<!-- Addgg&#45;&gt;Addggg -->\n",
       "<g id=\"edge7\" class=\"edge\">\n",
       "<title>Addgg&#45;&gt;Addggg</title>\n",
       "<path fill=\"none\" stroke=\"#000000\" d=\"M319.0619,-274.283C300.9266,-269.6282 278.5846,-260.5371 267,-243 262.6558,-236.4236 261.2113,-228.2557 261.1754,-220.3978\"/>\n",
       "<polygon fill=\"#000000\" stroke=\"#000000\" points=\"264.6689,-220.6093 261.8141,-210.4063 257.6832,-220.1626 264.6689,-220.6093\"/>\n",
       "<text text-anchor=\"middle\" x=\"337\" y=\"-231.8\" font-family=\"Times,serif\" font-size=\"14.00\" fill=\"#000000\">&lt;=&#45;0.3204566130842763</text>\n",
       "</g>\n",
       "<!-- Addggd -->\n",
       "<g id=\"node11\" class=\"node\">\n",
       "<title>Addggd</title>\n",
       "<ellipse fill=\"none\" stroke=\"#000000\" cx=\"429\" cy=\"-192\" rx=\"28.6953\" ry=\"18\"/>\n",
       "<text text-anchor=\"middle\" x=\"429\" y=\"-188.3\" font-family=\"Times,serif\" font-size=\"14.00\" fill=\"#000000\">att_0</text>\n",
       "</g>\n",
       "<!-- Addgg&#45;&gt;Addggd -->\n",
       "<g id=\"edge8\" class=\"edge\">\n",
       "<title>Addgg&#45;&gt;Addggd</title>\n",
       "<path fill=\"none\" stroke=\"#000000\" d=\"M371.0862,-268.9031C383.1567,-262.8524 397.2409,-254.1536 407,-243 412.8686,-236.2929 417.3672,-227.7814 420.7201,-219.6426\"/>\n",
       "<polygon fill=\"#000000\" stroke=\"#000000\" points=\"424.0828,-220.6395 424.2568,-210.0461 417.5146,-218.2188 424.0828,-220.6395\"/>\n",
       "<text text-anchor=\"middle\" x=\"483\" y=\"-231.8\" font-family=\"Times,serif\" font-size=\"14.00\" fill=\"#000000\">&gt;&#45;0.3204566130842763</text>\n",
       "</g>\n",
       "<!-- Addggdg -->\n",
       "<g id=\"node12\" class=\"node\">\n",
       "<title>Addggdg</title>\n",
       "<polygon fill=\"none\" stroke=\"#000000\" points=\"371,-123 317,-123 317,-87 371,-87 371,-123\"/>\n",
       "<text text-anchor=\"middle\" x=\"344\" y=\"-101.3\" font-family=\"Times,serif\" font-size=\"14.00\" fill=\"#000000\">&#45;1</text>\n",
       "</g>\n",
       "<!-- Addggd&#45;&gt;Addggdg -->\n",
       "<g id=\"edge5\" class=\"edge\">\n",
       "<title>Addggd&#45;&gt;Addggdg</title>\n",
       "<path fill=\"none\" stroke=\"#000000\" d=\"M400.9425,-187.9658C381.7106,-183.5914 357.4977,-174.5549 345,-156 340.5969,-149.4629 339.1345,-141.307 339.1002,-133.448\"/>\n",
       "<polygon fill=\"#000000\" stroke=\"#000000\" points=\"342.594,-133.6548 339.7506,-123.4487 335.6088,-133.2004 342.594,-133.6548\"/>\n",
       "<text text-anchor=\"middle\" x=\"418.5\" y=\"-144.8\" font-family=\"Times,serif\" font-size=\"14.00\" fill=\"#000000\">&lt;=&#45;0.18747417760580198</text>\n",
       "</g>\n",
       "<!-- Addggdd -->\n",
       "<g id=\"node13\" class=\"node\">\n",
       "<title>Addggdd</title>\n",
       "<ellipse fill=\"none\" stroke=\"#000000\" cx=\"514\" cy=\"-105\" rx=\"28.6953\" ry=\"18\"/>\n",
       "<text text-anchor=\"middle\" x=\"514\" y=\"-101.3\" font-family=\"Times,serif\" font-size=\"14.00\" fill=\"#000000\">att_1</text>\n",
       "</g>\n",
       "<!-- Addggd&#45;&gt;Addggdd -->\n",
       "<g id=\"edge6\" class=\"edge\">\n",
       "<title>Addggd&#45;&gt;Addggdd</title>\n",
       "<path fill=\"none\" stroke=\"#000000\" d=\"M453.6725,-182.4453C466.4831,-176.456 481.5894,-167.6458 492,-156 497.9396,-149.3557 502.4579,-140.8617 505.8071,-132.7195\"/>\n",
       "<polygon fill=\"#000000\" stroke=\"#000000\" points=\"509.1739,-133.704 509.3294,-123.1103 502.6015,-131.2948 509.1739,-133.704\"/>\n",
       "<text text-anchor=\"middle\" x=\"571.5\" y=\"-144.8\" font-family=\"Times,serif\" font-size=\"14.00\" fill=\"#000000\">&gt;&#45;0.18747417760580198</text>\n",
       "</g>\n",
       "<!-- Addggddg -->\n",
       "<g id=\"node14\" class=\"node\">\n",
       "<title>Addggddg</title>\n",
       "<polygon fill=\"none\" stroke=\"#000000\" points=\"456,-36 402,-36 402,0 456,0 456,-36\"/>\n",
       "<text text-anchor=\"middle\" x=\"429\" y=\"-14.3\" font-family=\"Times,serif\" font-size=\"14.00\" fill=\"#000000\">&#45;1</text>\n",
       "</g>\n",
       "<!-- Addggdd&#45;&gt;Addggddg -->\n",
       "<g id=\"edge3\" class=\"edge\">\n",
       "<title>Addggdd&#45;&gt;Addggddg</title>\n",
       "<path fill=\"none\" stroke=\"#000000\" d=\"M485.9425,-100.9658C466.7106,-96.5914 442.4977,-87.5549 430,-69 425.5969,-62.4629 424.1345,-54.307 424.1002,-46.448\"/>\n",
       "<polygon fill=\"#000000\" stroke=\"#000000\" points=\"427.594,-46.6548 424.7506,-36.4487 420.6088,-46.2004 427.594,-46.6548\"/>\n",
       "<text text-anchor=\"middle\" x=\"503.5\" y=\"-57.8\" font-family=\"Times,serif\" font-size=\"14.00\" fill=\"#000000\">&lt;=&#45;0.06871988088380143</text>\n",
       "</g>\n",
       "<!-- Addggddd -->\n",
       "<g id=\"node15\" class=\"node\">\n",
       "<title>Addggddd</title>\n",
       "<polygon fill=\"none\" stroke=\"#000000\" points=\"626,-36 572,-36 572,0 626,0 626,-36\"/>\n",
       "<text text-anchor=\"middle\" x=\"599\" y=\"-14.3\" font-family=\"Times,serif\" font-size=\"14.00\" fill=\"#000000\">1</text>\n",
       "</g>\n",
       "<!-- Addggdd&#45;&gt;Addggddd -->\n",
       "<g id=\"edge4\" class=\"edge\">\n",
       "<title>Addggdd&#45;&gt;Addggddd</title>\n",
       "<path fill=\"none\" stroke=\"#000000\" d=\"M538.6725,-95.4453C551.4831,-89.456 566.5894,-80.6458 577,-69 582.9396,-62.3557 587.4579,-53.8617 590.8071,-45.7195\"/>\n",
       "<polygon fill=\"#000000\" stroke=\"#000000\" points=\"594.1739,-46.704 594.3294,-36.1103 587.6015,-44.2948 594.1739,-46.704\"/>\n",
       "<text text-anchor=\"middle\" x=\"656.5\" y=\"-57.8\" font-family=\"Times,serif\" font-size=\"14.00\" fill=\"#000000\">&gt;&#45;0.06871988088380143</text>\n",
       "</g>\n",
       "</g>\n",
       "</svg>\n"
      ],
      "text/plain": [
       "<graphviz.graphs.Digraph at 0x7f67e2fb8190>"
      ]
     },
     "execution_count": 4,
     "metadata": {},
     "output_type": "execute_result"
    }
   ],
   "source": [
    "import graphviz as gv\n",
    "\n",
    "# Construction de la représentation graphique (affichage)\n",
    "graphe_arbre_1 = gv.Digraph(format='png')\n",
    "arbre_1.affiche(graphe_arbre_1)\n",
    "\n",
    "# Affichage du graphe obtenu:\n",
    "graphe_arbre_1"
   ]
  },
  {
   "cell_type": "markdown",
   "metadata": {},
   "source": [
    "<font color=\"RED\" size=\"+1\"><b>[Q]</b></font> Sur une feuille de papier, représenter la frontière de séparation des classes en la dessinant à la main et en utilisant l'arbre ci-dessus."
   ]
  },
  {
   "cell_type": "markdown",
   "metadata": {},
   "source": [
    "Même chose mais en utilisant un seuil d'entropie lors de la construction, ici égal à $0.3$ \n"
   ]
  },
  {
   "cell_type": "code",
   "execution_count": 5,
   "metadata": {},
   "outputs": [
    {
     "name": "stdout",
     "output_type": "stream",
     "text": [
      "Accuracy (train):  0.95\n"
     ]
    },
    {
     "data": {
      "image/svg+xml": [
       "<?xml version=\"1.0\" encoding=\"UTF-8\" standalone=\"no\"?>\n",
       "<!DOCTYPE svg PUBLIC \"-//W3C//DTD SVG 1.1//EN\"\n",
       " \"http://www.w3.org/Graphics/SVG/1.1/DTD/svg11.dtd\">\n",
       "<!-- Generated by graphviz version 2.40.1 (20161225.0304)\n",
       " -->\n",
       "<!-- Title: %3 Pages: 1 -->\n",
       "<svg width=\"399pt\" height=\"218pt\"\n",
       " viewBox=\"0.00 0.00 399.00 218.00\" xmlns=\"http://www.w3.org/2000/svg\" xmlns:xlink=\"http://www.w3.org/1999/xlink\">\n",
       "<g id=\"graph0\" class=\"graph\" transform=\"scale(1 1) rotate(0) translate(4 214)\">\n",
       "<title>%3</title>\n",
       "<polygon fill=\"#ffffff\" stroke=\"transparent\" points=\"-4,4 -4,-214 395,-214 395,4 -4,4\"/>\n",
       "<!-- A -->\n",
       "<g id=\"node1\" class=\"node\">\n",
       "<title>A</title>\n",
       "<ellipse fill=\"none\" stroke=\"#000000\" cx=\"108\" cy=\"-192\" rx=\"28.6953\" ry=\"18\"/>\n",
       "<text text-anchor=\"middle\" x=\"108\" y=\"-188.3\" font-family=\"Times,serif\" font-size=\"14.00\" fill=\"#000000\">att_0</text>\n",
       "</g>\n",
       "<!-- Ag -->\n",
       "<g id=\"node2\" class=\"node\">\n",
       "<title>Ag</title>\n",
       "<polygon fill=\"none\" stroke=\"#000000\" points=\"54,-123 0,-123 0,-87 54,-87 54,-123\"/>\n",
       "<text text-anchor=\"middle\" x=\"27\" y=\"-101.3\" font-family=\"Times,serif\" font-size=\"14.00\" fill=\"#000000\">&#45;1</text>\n",
       "</g>\n",
       "<!-- A&#45;&gt;Ag -->\n",
       "<g id=\"edge3\" class=\"edge\">\n",
       "<title>A&#45;&gt;Ag</title>\n",
       "<path fill=\"none\" stroke=\"#000000\" d=\"M80.0619,-187.283C61.9266,-182.6282 39.5846,-173.5371 28,-156 23.6558,-149.4236 22.2113,-141.2557 22.1754,-133.3978\"/>\n",
       "<polygon fill=\"#000000\" stroke=\"#000000\" points=\"25.6689,-133.6093 22.8141,-123.4063 18.6832,-133.1626 25.6689,-133.6093\"/>\n",
       "<text text-anchor=\"middle\" x=\"98\" y=\"-144.8\" font-family=\"Times,serif\" font-size=\"14.00\" fill=\"#000000\">&lt;=&#45;0.6383639749523659</text>\n",
       "</g>\n",
       "<!-- Ad -->\n",
       "<g id=\"node3\" class=\"node\">\n",
       "<title>Ad</title>\n",
       "<ellipse fill=\"none\" stroke=\"#000000\" cx=\"190\" cy=\"-105\" rx=\"28.6953\" ry=\"18\"/>\n",
       "<text text-anchor=\"middle\" x=\"190\" y=\"-101.3\" font-family=\"Times,serif\" font-size=\"14.00\" fill=\"#000000\">att_1</text>\n",
       "</g>\n",
       "<!-- A&#45;&gt;Ad -->\n",
       "<g id=\"edge4\" class=\"edge\">\n",
       "<title>A&#45;&gt;Ad</title>\n",
       "<path fill=\"none\" stroke=\"#000000\" d=\"M132.0862,-181.9031C144.1567,-175.8524 158.2409,-167.1536 168,-156 173.8686,-149.2929 178.3672,-140.7814 181.7201,-132.6426\"/>\n",
       "<polygon fill=\"#000000\" stroke=\"#000000\" points=\"185.0828,-133.6395 185.2568,-123.0461 178.5146,-131.2188 185.0828,-133.6395\"/>\n",
       "<text text-anchor=\"middle\" x=\"244\" y=\"-144.8\" font-family=\"Times,serif\" font-size=\"14.00\" fill=\"#000000\">&gt;&#45;0.6383639749523659</text>\n",
       "</g>\n",
       "<!-- Adg -->\n",
       "<g id=\"node4\" class=\"node\">\n",
       "<title>Adg</title>\n",
       "<polygon fill=\"none\" stroke=\"#000000\" points=\"136,-36 82,-36 82,0 136,0 136,-36\"/>\n",
       "<text text-anchor=\"middle\" x=\"109\" y=\"-14.3\" font-family=\"Times,serif\" font-size=\"14.00\" fill=\"#000000\">&#45;1</text>\n",
       "</g>\n",
       "<!-- Ad&#45;&gt;Adg -->\n",
       "<g id=\"edge1\" class=\"edge\">\n",
       "<title>Ad&#45;&gt;Adg</title>\n",
       "<path fill=\"none\" stroke=\"#000000\" d=\"M162.0619,-100.283C143.9266,-95.6282 121.5846,-86.5371 110,-69 105.6558,-62.4236 104.2113,-54.2557 104.1754,-46.3978\"/>\n",
       "<polygon fill=\"#000000\" stroke=\"#000000\" points=\"107.6689,-46.6093 104.8141,-36.4063 100.6832,-46.1626 107.6689,-46.6093\"/>\n",
       "<text text-anchor=\"middle\" x=\"180\" y=\"-57.8\" font-family=\"Times,serif\" font-size=\"14.00\" fill=\"#000000\">&lt;=&#45;0.6712488903403155</text>\n",
       "</g>\n",
       "<!-- Add -->\n",
       "<g id=\"node5\" class=\"node\">\n",
       "<title>Add</title>\n",
       "<polygon fill=\"none\" stroke=\"#000000\" points=\"299,-36 245,-36 245,0 299,0 299,-36\"/>\n",
       "<text text-anchor=\"middle\" x=\"272\" y=\"-14.3\" font-family=\"Times,serif\" font-size=\"14.00\" fill=\"#000000\">1</text>\n",
       "</g>\n",
       "<!-- Ad&#45;&gt;Add -->\n",
       "<g id=\"edge2\" class=\"edge\">\n",
       "<title>Ad&#45;&gt;Add</title>\n",
       "<path fill=\"none\" stroke=\"#000000\" d=\"M214.0862,-94.9031C226.1567,-88.8524 240.2409,-80.1536 250,-69 255.8686,-62.2929 260.3672,-53.7814 263.7201,-45.6426\"/>\n",
       "<polygon fill=\"#000000\" stroke=\"#000000\" points=\"267.0828,-46.6395 267.2568,-36.0461 260.5146,-44.2188 267.0828,-46.6395\"/>\n",
       "<text text-anchor=\"middle\" x=\"325\" y=\"-57.8\" font-family=\"Times,serif\" font-size=\"14.00\" fill=\"#000000\">&gt;&#45;0.6712488903403155</text>\n",
       "</g>\n",
       "</g>\n",
       "</svg>\n"
      ],
      "text/plain": [
       "<graphviz.graphs.Digraph at 0x7f67e2fa3c10>"
      ]
     },
     "execution_count": 5,
     "metadata": {},
     "output_type": "execute_result"
    },
    {
     "data": {
      "image/png": "[encoded data removed]",
      "text/plain": [
       "<Figure size 432x288 with 1 Axes>"
      ]
     },
     "metadata": {
      "needs_background": "light"
     },
     "output_type": "display_data"
    }
   ],
   "source": [
    "# De même, les classes de Classifiers sont utilisables en mettant classif. devant leur nom:\n",
    "# Création d'un perceptron\n",
    "arbre_2 = cl.ClassifierArbreNumerique(2, 0.30)\n",
    "\n",
    "# Construction de l'arbre de décision à partir du dataset généré plus haut\n",
    "arbre_2.train(d_desc,d_label)\n",
    "print(\"Accuracy (train): \", arbre_2.accuracy(d_desc,d_label))\n",
    "\n",
    "# Affichage de la frontière de séparation des classes\n",
    "ut.plot_frontiere(d_desc,d_label,arbre_2,step=100)\n",
    "ut.plot2DSet(d_desc,d_label)\n",
    "\n",
    "# Construction de la représentation graphique (affichage)\n",
    "graphe_arbre_2 = gv.Digraph(format='png')\n",
    "arbre_2.affiche(graphe_arbre_2)\n",
    "\n",
    "# Affichage du graphe obtenu:\n",
    "graphe_arbre_2"
   ]
  },
  {
   "cell_type": "markdown",
   "metadata": {},
   "source": [
    "## Bagging d'arbres de décision\n",
    "\n",
    "### Tirage aléatoire d'exemples\n",
    "\n",
    "Le bootstrap s'effectue en tirant aléatoirement un échantillon de $m$ exemples à partir de la base d'apprentissage $X$. Cet échantillon sert ensuite à construire un classifieur.\n",
    "\n",
    "Dans l'algorithme du bagging, ce processus est répété $B$ fois.\n",
    "\n",
    "Afin de ne pas alourdir la place mémoire nécessaire pour réaliser un tel tirage, on ne travaille que sur les indices des exemples dans la base. Un **échantillon de $X$ est donc un vecteur d'entiers** qui représentent les indices des exemples choisis.\n"
   ]
  },
  {
   "cell_type": "markdown",
   "metadata": {},
   "source": [
    "### Tirages aléatoires\n",
    "\n",
    "Consulter la librairie Python random qui propose différentes fonctions utiles pour implémenter le tirage aléatoire du bootstrap.\n",
    "\n",
    "Par exemple, la fonction <code>sample()</code> de la librairie <code>random</code> rend une sélection aléatoire dans une population donnée en réalisant un tirage sans remise.\n",
    "\n",
    "Pour tester, exécuter plusieurs fois les instructions de la boîte suivante :"
   ]
  },
  {
   "cell_type": "code",
   "execution_count": 6,
   "metadata": {},
   "outputs": [
    {
     "name": "stdout",
     "output_type": "stream",
     "text": [
      "La liste L de départ:  [0, 1, 2, 3, 4, 5, 6, 7, 8, 9, 10]\n",
      "Echantillon 1:  [10, 1, 0, 4, 9, 6]\n",
      "Echantillon 2:  [2, 1, 8, 9, 4, 3]\n"
     ]
    }
   ],
   "source": [
    "import random\n",
    "\n",
    "# ATTENTION : on utilise ici les fonctions de la librairie random pas numpy !\n",
    "# Donc, on ne préfixe pas les fonction par np.\n",
    "random.seed(42)   # on prend 42 comme graine\n",
    "\n",
    "L= [i for i in range(0,11)]             # construction de la liste des entiers de 0 à 10\n",
    "print(\"La liste L de départ: \",L)\n",
    "EchL_1 = random.sample(L,6)               # tirage de 6 éléments de L\n",
    "print(\"Echantillon 1: \",EchL_1)\n",
    "EchL_2 = random.sample(L,6)               # un autre tirage de 6 éléments de L\n",
    "print(\"Echantillon 2: \",EchL_2)\n"
   ]
  },
  {
   "cell_type": "markdown",
   "metadata": {},
   "source": [
    "La fonction <code>choice()</code> permet de choisir aléatoirement un élément dans une liste:"
   ]
  },
  {
   "cell_type": "code",
   "execution_count": 7,
   "metadata": {},
   "outputs": [
    {
     "name": "stdout",
     "output_type": "stream",
     "text": [
      "La liste L de départ:  [0, 1, 2, 3, 4, 5, 6, 7, 8, 9, 10]\n",
      "Element choisi:  10\n"
     ]
    }
   ],
   "source": [
    "random.seed(42)   # on prend 42 comme graine\n",
    "\n",
    "L= [i for i in range(0,11)]             # construction de la liste des entiers de 0 à 10\n",
    "print(\"La liste L de départ: \",L)\n",
    "elt = random.choice(L)                  # choix d'un élémént\n",
    "print(\"Element choisi: \",elt)"
   ]
  },
  {
   "cell_type": "markdown",
   "metadata": {},
   "source": [
    "<font color=\"RED\" size=\"+1\">**[Q]**</font> Ecrire la fonction <code>tirage()</code> qui étant donné un vecteur d'entiers <i>VX</i> qui représente l'ensemble des indices des exemples d'une base d'apprentissage <i>X</i>, un entier $m$, et un booléen $r$, rend un vecteur de $m$ indices choisis aléatoirement dans <i>VX</i>. Si le booléen $r$ est vrai, le tirage s'effectue *avec remise*, sinon il s'effectue *sans remise*."
   ]
  },
  {
   "cell_type": "code",
   "execution_count": 8,
   "metadata": {},
   "outputs": [],
   "source": [
    "import random\n",
    "def tirage(VX,m,r):\n",
    "    if (not r):\n",
    "        return random.sample(VX,m)\n",
    "    return [random.choice(VX) for p in range(m)]"
   ]
  },
  {
   "cell_type": "markdown",
   "metadata": {},
   "source": [
    "Exemples :"
   ]
  },
  {
   "cell_type": "code",
   "execution_count": 9,
   "metadata": {},
   "outputs": [
    {
     "data": {
      "text/plain": [
       "[1, 0, 4, 3, 3, 2, 1, 8]"
      ]
     },
     "execution_count": 9,
     "metadata": {},
     "output_type": "execute_result"
    }
   ],
   "source": [
    "random.seed(42)   # on prend 42 comme graine\n",
    "L= [i for i in range(0,10)]    # construction de la liste des entiers de 0 à 100\n",
    "tirage(L,8,True)               # tirage avec remise"
   ]
  },
  {
   "cell_type": "code",
   "execution_count": 10,
   "metadata": {},
   "outputs": [
    {
     "data": {
      "text/plain": [
       "[1, 6, 0, 7, 8, 9, 4, 2]"
      ]
     },
     "execution_count": 10,
     "metadata": {},
     "output_type": "execute_result"
    }
   ],
   "source": [
    "tirage(L,8,False)               # tirage sans remise"
   ]
  },
  {
   "cell_type": "code",
   "execution_count": 11,
   "metadata": {},
   "outputs": [
    {
     "data": {
      "text/plain": [
       "array([[-0.50328585, -1.1382643 ],\n",
       "       [-0.35231146,  0.52302986],\n",
       "       [-1.23415337, -1.23413696],\n",
       "       [ 0.57921282, -0.23256527],\n",
       "       [-1.46947439, -0.45743996],\n",
       "       [-1.46341769, -1.46572975],\n",
       "       [-0.75803773, -2.91328024],\n",
       "       [-2.72491783, -1.56228753],\n",
       "       [-2.01283112, -0.68575267],\n",
       "       [-1.90802408, -2.4123037 ]])"
      ]
     },
     "execution_count": 11,
     "metadata": {},
     "output_type": "execute_result"
    }
   ],
   "source": [
    "# Pour rappel:\n",
    "# 10 premières lignes de d_desc:\n",
    "d_desc[0:10,:]"
   ]
  },
  {
   "cell_type": "code",
   "execution_count": 12,
   "metadata": {},
   "outputs": [
    {
     "data": {
      "text/plain": [
       "array([[-0.50328585, -1.1382643 ],\n",
       "       [-1.46341769, -1.46572975],\n",
       "       [-0.35231146,  0.52302986],\n",
       "       [-0.50328585, -1.1382643 ],\n",
       "       [-0.50328585, -1.1382643 ]])"
      ]
     },
     "execution_count": 12,
     "metadata": {},
     "output_type": "execute_result"
    }
   ],
   "source": [
    "# Choix de lignes quelconques de d_desc\n",
    "L=[0,5,1,0,0]\n",
    "d_desc[L,:]"
   ]
  },
  {
   "cell_type": "code",
   "execution_count": 13,
   "metadata": {},
   "outputs": [
    {
     "data": {
      "text/plain": [
       "array([-1, -1, -1, -1, -1])"
      ]
     },
     "execution_count": 13,
     "metadata": {},
     "output_type": "execute_result"
    }
   ],
   "source": [
    "# et les labels\n",
    "d_label[L]"
   ]
  },
  {
   "cell_type": "code",
   "execution_count": 14,
   "metadata": {},
   "outputs": [
    {
     "data": {
      "text/plain": [
       "array([[-0.50328585, -1.1382643 ],\n",
       "       [ 1.05820872, -0.1429703 ],\n",
       "       [-1.54438272, -0.88907741],\n",
       "       [ 0.02531833,  1.7870846 ]])"
      ]
     },
     "execution_count": 14,
     "metadata": {},
     "output_type": "execute_result"
    }
   ],
   "source": [
    "# Choix de lignes quelconques de d_desc\n",
    "L=[0,99,12,80]\n",
    "d_desc[L,:]"
   ]
  },
  {
   "cell_type": "code",
   "execution_count": 15,
   "metadata": {},
   "outputs": [
    {
     "data": {
      "text/plain": [
       "array([-1,  1, -1,  1])"
      ]
     },
     "execution_count": 15,
     "metadata": {},
     "output_type": "execute_result"
    }
   ],
   "source": [
    "d_label[L]"
   ]
  },
  {
   "cell_type": "markdown",
   "metadata": {},
   "source": [
    "Dans ce qui suit, pour faciliter les énoncés, on appelle <code>LabeledSet</code> un couple de 2 np.arrays $X$ pour les descriptions des exemples et $Y$ pour les labels correspondant à chaque exemple.\n",
    "\n",
    "Par exemple, le <code>LabeledSet</code> pour les données générées précédemment est <code>(d_desc,d_label)</code>."
   ]
  },
  {
   "cell_type": "markdown",
   "metadata": {
    "collapsed": true
   },
   "source": [
    "<font color=\"RED\" size=\"+1\">**[Q]**</font> En utilisant la fonction précédente, écrire la fonction <code>echantillonLS()</code> qui, étant donné un <code>LabeledSet</code> $LS$, un nombre entier $m$, et un booléen $r$ (avec ou sans remise) rend le <code>LabeledSet</code> échantillon de $LS$ de taille $m$. \n",
    "\n",
    "*Remarque*: on peut faire l'hypothèse que $m$ est inférieur ou égal au nombre de lignes de $LS$. \n"
   ]
  },
  {
   "cell_type": "code",
   "execution_count": 16,
   "metadata": {},
   "outputs": [],
   "source": [
    "def echantillonLS(LS,m,r):\n",
    "    idx = tirage([i for i in range(len(LS[0]))],m,r)\n",
    "    return (LS[0][idx,:],LS[1][idx])"
   ]
  },
  {
   "cell_type": "code",
   "execution_count": 17,
   "metadata": {},
   "outputs": [
    {
     "data": {
      "text/plain": [
       "(array([[ 1.29307247,  0.28564858],\n",
       "        [ 0.57921282, -0.23256527],\n",
       "        [-0.60748323,  1.18463386],\n",
       "        [-0.67591603, -1.38508228],\n",
       "        [-0.0708925 ,  1.48247242],\n",
       "        [ 1.82206016,  2.89679298],\n",
       "        [ 0.73534317,  3.72016917],\n",
       "        [ 1.81351722, -0.23086432],\n",
       "        [ 2.8861859 ,  1.17457781],\n",
       "        [-1.83921752, -1.30921238]]),\n",
       " array([ 1, -1,  1, -1,  1,  1,  1,  1,  1, -1]))"
      ]
     },
     "execution_count": 17,
     "metadata": {},
     "output_type": "execute_result"
    }
   ],
   "source": [
    "echantillonLS((d_desc,d_label),10,True)"
   ]
  },
  {
   "cell_type": "markdown",
   "metadata": {},
   "source": [
    "<font color=\"RED\" size=\"+1\">**[Q]**</font> Ecrire la classe <code>ClassifierBaggingTree</code>, dérivée de la classe <code>Classifier</code>, qui permet d'implémenter un bagging d'arbres de décision (numériques). Les spécifications de cette classe sont :\n",
    "- la création de l'ensemble nécessite les paramètres suivants : \n",
    "    - le nombre $B$ d'arbres à construire, \n",
    "    - le pourcentage d'exemples de la base d'apprentissage utilisés pour constituer un échantillon, \n",
    "    - un booléen qui précise si un échantillon est tiré avec ou sans remise\n",
    "    - et la valeur de seuil d'entropie pour arrêter la construction de chaque arbre, \n",
    "- l'apprentissage (méthode <code>train()</code>) construit autant d'arbres que précisé à la création. Chaque arbre est construit à partir d'un échantillon de la base d'apprentissage (donnée sous forme d'un <code>LabeledSet</code>) donnée en argument. Les arbres construits sont stockés dans un ensemble Python.\n",
    "- la prédiction (méthode <code>predict()</code>) classe un exemple par vote de tous les arbres de la forêt. Si la somme des votes est positive ou nulle, la classe rendue est +1, sinon, la classe rendue est -1.\n"
   ]
  },
  {
   "cell_type": "code",
   "execution_count": 18,
   "metadata": {},
   "outputs": [],
   "source": [
    "class ClassifierBaggingTree(cl.Classifier):\n",
    "    def __init__(self,B,p,seuil,r):\n",
    "        self.B=B\n",
    "        self.p=p\n",
    "        self.r=r\n",
    "        self.seuil=seuil\n",
    "        self.tree_set = set()\n",
    "    def train(self,LS):\n",
    "        for i in range(self.B):\n",
    "            (desc_i,label_i) = echantillonLS(LS,int(self.p*len(LS[0])),self.r)\n",
    "            (L,C) = desc_i.shape\n",
    "            tree = cl.ClassifierArbreNumerique(C,self.seuil)\n",
    "            tree.train(desc_i,label_i)\n",
    "            self.tree_set.add(tree)\n",
    "    def predict(self,x):\n",
    "        liste_predi = []\n",
    "        for tree in self.tree_set:\n",
    "            liste_predi.append(tree.predict(x))\n",
    "        if sum(liste_predi)>=0:\n",
    "            return 1\n",
    "        return -1\n",
    "            "
   ]
  },
  {
   "cell_type": "code",
   "execution_count": 19,
   "metadata": {},
   "outputs": [
    {
     "name": "stdout",
     "output_type": "stream",
     "text": [
      "\n",
      "accuracy totale: 0.95\n"
     ]
    },
    {
     "data": {
      "image/png": "[encoded data removed]",
      "text/plain": [
       "<Figure size 432x288 with 1 Axes>"
      ]
     },
     "metadata": {
      "needs_background": "light"
     },
     "output_type": "display_data"
    }
   ],
   "source": [
    "random.seed(42)   # on prend 42 comme graine\n",
    "\n",
    "foret_1 = ClassifierBaggingTree(5,0.3,0.0,True)\n",
    "foret_1.train((d_desc,d_label))\n",
    "\n",
    "# Affichage de la frontière de séparation des classes\n",
    "ut.plot_frontiere(d_desc,d_label,foret_1,step=100)\n",
    "ut.plot2DSet(d_desc,d_label)\n",
    "\n",
    "print(\"\\naccuracy totale:\",foret_1.accuracy(d_desc,d_label))"
   ]
  },
  {
   "cell_type": "markdown",
   "metadata": {},
   "source": [
    "### Expérimentations\n",
    "\n",
    "<font color=\"RED\" size=\"+1\">**[Q]**</font> Expérimenter l'algorithme précédent de la façon suivante :\n",
    "- générer un dataset de train $Data$ contenant 1000 exemples ;\n",
    "- générer une base de test $T$ contenant 200 exemples ;\n",
    "- réaliser un apprentissage par bagging avec $Data$ et évaluer le taux de prédiction du modèle obtenu sur $T$ ;\n",
    "- construire la courbe donnant le **taux d'erreur** obtenu en augmentant la taille de la forêt d'arbres de 1 à 20 arbres. \n",
    "\n",
    "**Remarque**: réinitialiser la graine aléatoire avant de construire une forêt."
   ]
  },
  {
   "cell_type": "code",
   "execution_count": 21,
   "metadata": {},
   "outputs": [
    {
     "data": {
      "text/plain": [
       "[<matplotlib.lines.Line2D at 0x7f6814a2cbb0>]"
      ]
     },
     "execution_count": 21,
     "metadata": {},
     "output_type": "execute_result"
    },
    {
     "data": {
      "image/png": "[encoded data removed]",
      "text/plain": [
       "<Figure size 432x288 with 1 Axes>"
      ]
     },
     "metadata": {
      "needs_background": "light"
     },
     "output_type": "display_data"
    }
   ],
   "source": [
    "# On initialise la graine\n",
    "np.random.seed(42)   \n",
    "\n",
    "data_train, label_train = ut.genere_dataset_gaussian(np.array([1,1]),1, \\\n",
    "                                             np.array([-1,-1]),1, 1000)\n",
    "\n",
    "data_test, label_test = ut.genere_dataset_gaussian(np.array([1,1]),1, \\\n",
    "                                            np.array([-1,-1]),1, 200)\n",
    "taux_erreur_train = []\n",
    "taux_erreur_test = []\n",
    "for i in range(1,20):\n",
    "    foret = ClassifierBaggingTree(i,0.75,0.0,True)\n",
    "    foret.train((data_train, label_train))\n",
    "    taux_erreur_train.append(1-foret.accuracy(data_train, label_train ))    \n",
    "    taux_erreur_test.append(1-foret.accuracy(data_test, label_test ))\n",
    "plt.plot([i for i in range(1,20)],taux_erreur_train,color=\"blue\")\n",
    "plt.plot([i for i in range(1,20)],taux_erreur_test,color=\"red\")"
   ]
  },
  {
   "cell_type": "markdown",
   "metadata": {},
   "source": [
    "## Random forests\n",
    "\n",
    "<font color=\"RED\" size=\"+1\"><b>[Q]</b></font> Ecrire et tester la classe <code>ClassifierRandomForest</code> qui implémente l'algorithme des random forests vu en cours.\n",
    "\n",
    "Pour cela, vous devrez:\n",
    "- définir une méthode <code>construit_AD_aleatoire(LS,epsilon,nb_att)</code> qui utilise $nb_att$ attributs choisis aléatoirement à chaque niveau de la construction de l'arbre\n",
    "- définir une nouvelle classe <code>ArbreDecisionAleatoire</code> qui étend la classe <code>ArbreDecision</code> en surchargeant la méthode <code>train</code>. Le constructeur d'un tel arbre prendra en argument le nombre d'attributs à utiliser lors de la construction de l'arbre.\n",
    "\n",
    "**Remarque:** pour expérimenter (selon le modèle de l'exemple précédent, il est plus intéressant d'avoir un dataset avec plus de 2 colonnes, vous pourrez donc prendre les datasets vus dans les tme précédent (iris, ou usks)."
   ]
  },
  {
   "cell_type": "code",
   "execution_count": 63,
   "metadata": {},
   "outputs": [],
   "source": [
    "def construit_AD_aleatoire(LS,epsilon,nb_att):\n",
    "     # dimensions de X:\n",
    "    (nb_lig, nb_col) = LS[0].shape\n",
    "    #choisir les colonnes aléatoirement\n",
    "    idx_col = tirage([i for i in range(nb_col)],nb_att,False)   \n",
    "    #reduire le jeu de données\n",
    "    X = LS[0][idx_col,:]\n",
    "    Y=LS[1]\n",
    "    entropie_classe = cl.entropie(Y)\n",
    "    if (entropie_classe <= epsilon) or  (nb_lig <=1):\n",
    "        # ARRET : on crée une feuille\n",
    "        noeud = cl.NoeudNumerique(-1,\"Label\")\n",
    "        noeud.ajoute_feuille(cl.classe_majoritaire(Y))\n",
    "    else:\n",
    "        gain_max = float('-Inf')  # meilleur gain trouvé (initalisé à -infinie)\n",
    "        i_best = -1               # numéro du meilleur attribut (init à -1 (aucun))\n",
    "        Xbest_set = None\n",
    "        \n",
    "        #############     \n",
    "        entropies =[]\n",
    "        seuils = []\n",
    "        for j in range(nb_att):\n",
    "            ((best_seuil, best_entropie), (liste_coupures,liste_entropies)) = cl.discretise(X,Y,j)\n",
    "            entropies.append(best_entropie)\n",
    "            seuils.append(best_seuil)\n",
    "        i_best = np.argmin(entropies)#on prend l'index de l'entropie la plus faible\n",
    "        Xbest_seuil = seuils[i_best]\n",
    "        Xbest_tuple = cl.partitionne(X,Y,i_best,Xbest_seuil)\n",
    "        gain_max = cl.entropie(Y)-entropies[i_best]\n",
    "        \n",
    "        ############\n",
    "        if (gain_max != float('-Inf')):\n",
    "            if nb_att>0:  # si on a des noms de features\n",
    "                noeud = cl.NoeudNumerique(i_best) \n",
    "            else:\n",
    "                noeud = cl.NoeudNumerique(i_best)\n",
    "            ((left_data,left_class), (right_data,right_class)) = Xbest_tuple\n",
    "            noeud.ajoute_fils( Xbest_seuil, \\\n",
    "                              construit_AD_aleatoire((left_data,left_class), epsilon,nb_att), \\\n",
    "                              construit_AD_aleatoire((right_data,right_class), epsilon,nb_att) )\n",
    "        else: # aucun attribut n'a pu améliorer le gain d'information\n",
    "              # ARRET : on crée une feuille\n",
    "            noeud = NoeudNumerique(-1,\"Label\")\n",
    "            noeud.ajoute_feuille(cl.classe_majoritaire(Y))\n",
    "        \n",
    "    return noeud"
   ]
  },
  {
   "cell_type": "code",
   "execution_count": 64,
   "metadata": {},
   "outputs": [],
   "source": [
    "class ArbreDecisionAleatoire(cl.ClassifierArbreDecision):\n",
    "    def __init__(self, input_dimension, epsilon,nb_att, LNoms=[]):\n",
    "        \n",
    "        self.dimension = input_dimension\n",
    "        self.epsilon = epsilon\n",
    "        self.LNoms = LNoms\n",
    "        # l'arbre est manipulé par sa racine qui sera un Noeud\n",
    "        self.racine = None\n",
    "        self.nb_att=nb_att\n",
    "    def train(self, desc_set, label_set):\n",
    "        \"\"\" Permet d'entrainer le modele sur l'ensemble donné\n",
    "            desc_set: ndarray avec des descriptions\n",
    "            label_set: ndarray avec les labels correspondants\n",
    "            Hypothèse: desc_set et label_set ont le même nombre de lignes\n",
    "        \"\"\"        \n",
    "        self.racine = construit_AD_aleatoire((desc_set,label_set),self.epsilon,self.nb_att)"
   ]
  },
  {
   "cell_type": "code",
   "execution_count": 74,
   "metadata": {},
   "outputs": [],
   "source": [
    "import math\n",
    "class ClassifierRandomForest(cl.Classifier):\n",
    "    def __init__(self,B,p,seuil,r):\n",
    "        self.B=B\n",
    "        self.p=p\n",
    "        self.r=r\n",
    "        self.seuil=seuil\n",
    "        self.tree_set = set()\n",
    "       \n",
    "    def train(self,LS):\n",
    "        (lignes,colonnes) = LS[0].shape\n",
    "        for i in range(self.B):\n",
    "            (desc_i,label_i) = echantillonLS(LS,int(self.p*lignes),self.r)\n",
    "            (L,C) = desc_i.shape\n",
    "            tree = ArbreDecisionAleatoire(C,self.seuil,int(math.sqrt(colonnes)))\n",
    "            tree.train(desc_i,label_i)\n",
    "            self.tree_set.add(tree)\n",
    "    def predict(self,x):\n",
    "        liste_predi = []\n",
    "        for tree in self.tree_set:\n",
    "            liste_predi.append(tree.predict(x))\n",
    "        if sum(liste_predi)>=0:\n",
    "            return 1\n",
    "        return -1\n",
    "            "
   ]
  },
  {
   "cell_type": "markdown",
   "metadata": {},
   "source": [
    "## Expérimentation\n",
    "\n",
    "<font color=\"RED\" size=\"+1\"><b>[Q]</b></font> Comparer le bagging d'arbres et les random forests sur d'autres bases d'apprentissage (réelles ou générées aléatoirement). Construire la courbe donnant le taux de prédiction pour une forêt d'arbres variant de 1 à 100 arbres (cela peut prendre du temps, tester sur un nombre réduit d'arbres dans un premier temps)."
   ]
  },
  {
   "cell_type": "markdown",
   "metadata": {},
   "source": [
    "## Exercices à faire chez vous (sur papier)\n",
    "\n",
    "Pour vous entraîner sans machine... *(exercice de l'examen 2017)*\n",
    "\n",
    "Soit $V=\\{v_{1}, v_{2},..., v_{n}\\}$ un ensemble de $n$ valeurs réelles ordonnées,\n",
    "  telles que $v_1 \\geq v_2 \\geq \\ldots \\geq v_{n}$.. On note $\\bar{v}$ la valeur moyenne de $V$. La variance de $V$, $var(V)$ est définie par:\n",
    "$var(V) = \\frac{1}{n} \\sum_{i=1}^{n} (v_{i} - \\bar{v})^2$. \n",
    "\n",
    "Et soit $W=\\{w_{1}, w_{2},..., w_{n}\\}$ tel que,pour tout $i=1,...,n$.\n",
    "\n",
    "\n",
    "<font color=\"RED\" size=\"+1\"><b>[Q]</b></font> Donner l'expression de $\\bar{v}$ en fonction des valeurs de $V$.\n",
    "\n",
    "<font color=\"RED\" size=\"+1\"><b>[Q]</b></font> Montrer que $var(aV+b) = a^2 var(V)$.\n",
    "\n",
    "<font color=\"RED\" size=\"+1\"><b>[Q]</b></font> Donner l'expression de $V\\cdot W$ (le produit scalaire) en fonction des coordonnées\n",
    "   de $V$ et de $W$.\n",
    "   \n",
    "<font color=\"RED\" size=\"+1\"><b>[Q]</b></font> Comment doit-on définir $W$ si on souhaite que $V\\cdot W = \\bar{v}$ ?\n",
    "\n",
    "\n",
    "<font color=\"RED\" size=\"+1\"><b>[Q]</b></font> Comment doit-on définir $W$ si on souhaite que\n",
    "   $V\\cdot W = \\displaystyle\\max_{i=1,...n} v_i$ ? Même question si on souhaite que\n",
    "   $V\\cdot W = \\displaystyle\\min_{i=1,...n} v_i$ ?\n",
    "\n",
    "<font color=\"RED\" size=\"+1\"><b>[Q]</b></font> Soit un entier $k$ tel que $0<k\\leq n$. Proposer une définition de $W$ qui, par le\n",
    "   calcul du produit scalaire, permet de ne tenir compte, de façon équitable, que des $k$\n",
    "   valeurs les plus élevées de $V$.\n",
    "\n"
   ]
  },
  {
   "cell_type": "markdown",
   "metadata": {},
   "source": [
    "## (optionnel) Evaluation par la méthode \"Out Of Bags\"\n",
    "\n",
    "<font color=\"RED\" size=\"+1\">**[Q]**</font> Sur les mêmes données, réaliser une évaluation par la méthode \"Out Of Bags\" vue en cours. Construire la courbe donnant le taux de prédiction OOB en fonction de la taille de la forêt d'arbres.\n",
    "\n",
    "Pour cela, écrire la classe <code>ClassifierBaggingTreeOOB</code> qui étend la classe d'un classifieur bagging pour prendre en compte la spécificité de l'approche OOB.\n",
    "Ainsi, à partir de $\\mathcal{X}$, l'ensemble des données d'apprentissage, chaque arbre $A_i$ de la forêt est associé à 2 sous-ensembles de $\\mathcal{X}$: \n",
    "- $\\mathcal{X}_i$: l'échantillon bootstrap qui sert à construire l'arbre $A_i$\n",
    "- $\\mathcal{T}_i$: l'ensemble des exemples OOB associés à l'arbre $A_i$\n",
    "\n",
    "Le calcul du taux de bonne classification s'effectuera comme suit:\n",
    "- soit $t_i$ le taux de bonne classification de $A_i$ pour l'ensemble OOB $\\mathcal{T}_i$\n",
    "- le taux de global de bonne classification de la forêt d'arbres $A_1$,..., $A_B$ est donné par $\\frac{1}{B}\\sum_{i=1}^{B} t_i$\n"
   ]
  },
  {
   "cell_type": "code",
   "execution_count": null,
   "metadata": {},
   "outputs": [],
   "source": []
  }
 ],
 "metadata": {
  "kernelspec": {
   "display_name": "Python 3",
   "language": "python",
   "name": "python3"
  },
  "language_info": {
   "codemirror_mode": {
    "name": "ipython",
    "version": 3
   },
   "file_extension": ".py",
   "mimetype": "text/x-python",
   "name": "python",
   "nbconvert_exporter": "python",
   "pygments_lexer": "ipython3",
   "version": "3.5.3"
  }
 },
 "nbformat": 4,
 "nbformat_minor": 1
}
